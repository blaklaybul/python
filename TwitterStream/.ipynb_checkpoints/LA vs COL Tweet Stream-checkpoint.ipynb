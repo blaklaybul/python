{
 "metadata": {
  "name": "",
  "signature": "sha256:24cbb6ecaa19f16f5c36507d4a8b8156726216012c55e53211ed05be76cffeac"
 },
 "nbformat": 3,
 "nbformat_minor": 0,
 "worksheets": [
  {
   "cells": [
    {
     "cell_type": "heading",
     "level": 1,
     "metadata": {},
     "source": [
      "Twitter Stream with Tweepy"
     ]
    },
    {
     "cell_type": "markdown",
     "metadata": {},
     "source": [
      "Using tweepy, we track tweets during the LA Dodgers and Colorado Rockies game on Wednesday."
     ]
    },
    {
     "cell_type": "code",
     "collapsed": false,
     "input": [
      "import pandas as pd\n",
      "from pandas.tseries.resample import TimeGrouper\n",
      "from pandas.tseries.offsets import DateOffset\n",
      "\n",
      "dodgers = pd.read_csv('/Users/Michael/Repos/python/TwitterStream/Dodgers.csv')\n",
      "dodgers['created_at'] = pd.to_datetime(pd.Series(dodgers['created_at']))\n",
      "dodgers.set_index('created_at', drop=False, inplace=True)\n",
      "dodgers.index = dodgers.index.tz_localize('GMT').tz_convert('EST')\n",
      "dodgers.index = dodgers.index - DateOffset(hours = 12)\n",
      "\n",
      "\n",
      "rockies = pd.read_csv('/Users/Michael/Repos/python/TwitterStream/Rockies.csv')\n",
      "rockies['created_at'] = pd.to_datetime(pd.Series(rockies['created_at']))\n",
      "rockies.set_index('created_at', drop=False, inplace=True)\n",
      "rockies.index = rockies.index.tz_localize('GMT').tz_convert('EST')\n",
      "rockies.index = rockies.index - DateOffset(hours = 12)\n",
      "\n",
      "dodgers_per_min = dodgers['created_at'].resample('1t', how='count')\n",
      "rockies_per_min = rockies['created_at'].resample('1t', how='count')\n",
      "\n",
      "dodgers_per_min[\"type\"] = \"dodgers\"\n",
      "rockies_per_min[\"type\"] = \"rockies\"\n",
      "\n",
      "dodgers_per_min.head()\n"
     ],
     "language": "python",
     "metadata": {},
     "outputs": [
      {
       "metadata": {},
       "output_type": "pyout",
       "prompt_number": 17,
       "text": [
        "2015-06-02 07:12:00-05:00     7\n",
        "2015-06-02 07:13:00-05:00    20\n",
        "2015-06-02 07:14:00-05:00     8\n",
        "2015-06-02 07:15:00-05:00    11\n",
        "2015-06-02 07:16:00-05:00     9\n",
        "Name: created_at, dtype: object"
       ]
      }
     ],
     "prompt_number": 17
    },
    {
     "cell_type": "code",
     "collapsed": false,
     "input": [
      "import vincent\n",
      "vincent.core.initialize_notebook()\n",
      "area = vincent.Area(dodgers_per_min)\n",
      "area.colors(brew='Spectral')\n",
      "area.display()"
     ],
     "language": "python",
     "metadata": {},
     "outputs": [
      {
       "html": [
        "\n",
        "           <script>\n",
        "               \n",
        "                function vct_load_lib(url, callback){\n",
        "                      if(typeof d3 !== 'undefined' &&\n",
        "                         url === 'http://d3js.org/d3.v3.min.js'){\n",
        "                        callback()\n",
        "                      }\n",
        "                      var s = document.createElement('script');\n",
        "                      s.src = url;\n",
        "                      s.async = true;\n",
        "                      s.onreadystatechange = s.onload = callback;\n",
        "                      s.onerror = function(){\n",
        "                        console.warn(\"failed to load library \" + url);\n",
        "                        };\n",
        "                      document.getElementsByTagName(\"head\")[0].appendChild(s);\n",
        "                };\n",
        "                var vincent_event = new CustomEvent(\n",
        "                  \"vincent_libs_loaded\",\n",
        "                  {bubbles: true, cancelable: true}\n",
        "                );\n",
        "                \n",
        "               function load_all_libs(){\n",
        "                  console.log('Loading Vincent libs...')\n",
        "                  vct_load_lib('http://d3js.org/d3.v3.min.js', function(){\n",
        "                  vct_load_lib('http://d3js.org/d3.geo.projection.v0.min.js', function(){\n",
        "                  vct_load_lib('http://wrobstory.github.io/d3-cloud/d3.layout.cloud.js', function(){\n",
        "                  vct_load_lib('http://wrobstory.github.io/vega/vega.v1.3.3.js', function(){\n",
        "                  window.dispatchEvent(vincent_event);\n",
        "                  });\n",
        "                  });\n",
        "                  });\n",
        "                  });\n",
        "               };\n",
        "               if(typeof define === \"function\" && define.amd){\n",
        "                    if (window['d3'] === undefined ||\n",
        "                        window['topojson'] === undefined){\n",
        "                        require.config(\n",
        "                            {paths: {\n",
        "                              d3: 'http://d3js.org/d3.v3.min',\n",
        "                              topojson: 'http://d3js.org/topojson.v1.min'\n",
        "                              }\n",
        "                            }\n",
        "                          );\n",
        "                        require([\"d3\"], function(d3){\n",
        "                            console.log('Loading Vincent from require.js...')\n",
        "                            window.d3 = d3;\n",
        "                            require([\"topojson\"], function(topojson){\n",
        "                                window.topojson = topojson;\n",
        "                                load_all_libs();\n",
        "                            });\n",
        "                        });\n",
        "                    } else {\n",
        "                        load_all_libs();\n",
        "                    };\n",
        "               }else{\n",
        "                    console.log('Require.js not found, loading manually...')\n",
        "                    load_all_libs();\n",
        "               };\n",
        "\n",
        "           </script>"
       ],
       "metadata": {},
       "output_type": "display_data",
       "text": [
        "<IPython.core.display.HTML at 0x109a3b990>"
       ]
      },
      {
       "html": [
        "<div id=\"visf5c402c640ca4d8e96f2ce1d27be7f72\"></div>\n",
        "<script>\n",
        "   ( function() {\n",
        "     var _do_plot = function() {\n",
        "       if (typeof vg === 'undefined') {\n",
        "         window.addEventListener('vincent_libs_loaded', _do_plot)\n",
        "         return;\n",
        "       }\n",
        "       vg.parse.spec({\"axes\": [{\"scale\": \"x\", \"type\": \"x\"}, {\"scale\": \"y\", \"type\": \"y\"}], \"data\": [{\"name\": \"table\", \"values\": [{\"col\": \"created_at\", \"idx\": 1433247120000, \"val\": 7}, {\"col\": \"created_at\", \"idx\": 1433247180000, \"val\": 20}, {\"col\": \"created_at\", \"idx\": 1433247240000, \"val\": 8}, {\"col\": \"created_at\", \"idx\": 1433247300000, \"val\": 11}, {\"col\": \"created_at\", \"idx\": 1433247360000, \"val\": 9}, {\"col\": \"created_at\", \"idx\": 1433247420000, \"val\": 18}, {\"col\": \"created_at\", \"idx\": 1433247480000, \"val\": 11}, {\"col\": \"created_at\", \"idx\": 1433247540000, \"val\": 15}, {\"col\": \"created_at\", \"idx\": 1433247600000, \"val\": 7}, {\"col\": \"created_at\", \"idx\": 1433247660000, \"val\": 19}, {\"col\": \"created_at\", \"idx\": 1433247720000, \"val\": 15}, {\"col\": \"created_at\", \"idx\": 1433247780000, \"val\": 7}, {\"col\": \"created_at\", \"idx\": 1433247840000, \"val\": 8}, {\"col\": \"created_at\", \"idx\": 1433247900000, \"val\": 10}, {\"col\": \"created_at\", \"idx\": 1433247960000, \"val\": 7}, {\"col\": \"created_at\", \"idx\": 1433248020000, \"val\": 8}, {\"col\": \"created_at\", \"idx\": 1433248080000, \"val\": 39}, {\"col\": \"created_at\", \"idx\": 1433248140000, \"val\": 7}, {\"col\": \"created_at\", \"idx\": 1433248200000, \"val\": 24}, {\"col\": \"created_at\", \"idx\": 1433248260000, \"val\": 24}, {\"col\": \"created_at\", \"idx\": 1433248320000, \"val\": 19}, {\"col\": \"created_at\", \"idx\": 1433248380000, \"val\": 10}, {\"col\": \"created_at\", \"idx\": 1433248440000, \"val\": 15}, {\"col\": \"created_at\", \"idx\": 1433248500000, \"val\": 9}, {\"col\": \"created_at\", \"idx\": 1433248560000, \"val\": 13}, {\"col\": \"created_at\", \"idx\": 1433248620000, \"val\": 15}, {\"col\": \"created_at\", \"idx\": 1433248680000, \"val\": 21}, {\"col\": \"created_at\", \"idx\": 1433248740000, \"val\": 81}, {\"col\": \"created_at\", \"idx\": 1433248800000, \"val\": 59}, {\"col\": \"created_at\", \"idx\": 1433248860000, \"val\": 59}, {\"col\": \"created_at\", \"idx\": 1433248920000, \"val\": 43}, {\"col\": \"created_at\", \"idx\": 1433248980000, \"val\": 115}, {\"col\": \"created_at\", \"idx\": 1433249040000, \"val\": 76}, {\"col\": \"created_at\", \"idx\": 1433249100000, \"val\": 58}, {\"col\": \"created_at\", \"idx\": 1433249160000, \"val\": 43}, {\"col\": \"created_at\", \"idx\": 1433249220000, \"val\": 47}, {\"col\": \"created_at\", \"idx\": 1433249280000, \"val\": 37}, {\"col\": \"created_at\", \"idx\": 1433249340000, \"val\": 22}, {\"col\": \"created_at\", \"idx\": 1433249400000, \"val\": 43}, {\"col\": \"created_at\", \"idx\": 1433249460000, \"val\": 16}, {\"col\": \"created_at\", \"idx\": 1433249520000, \"val\": 24}, {\"col\": \"created_at\", \"idx\": 1433249580000, \"val\": 44}, {\"col\": \"created_at\", \"idx\": 1433249640000, \"val\": 26}, {\"col\": \"created_at\", \"idx\": 1433249700000, \"val\": 28}, {\"col\": \"created_at\", \"idx\": 1433249760000, \"val\": 21}, {\"col\": \"created_at\", \"idx\": 1433249820000, \"val\": 15}, {\"col\": \"created_at\", \"idx\": 1433249880000, \"val\": 30}, {\"col\": \"created_at\", \"idx\": 1433249940000, \"val\": 43}, {\"col\": \"created_at\", \"idx\": 1433250000000, \"val\": 93}, {\"col\": \"created_at\", \"idx\": 1433250060000, \"val\": 65}, {\"col\": \"created_at\", \"idx\": 1433250120000, \"val\": 47}, {\"col\": \"created_at\", \"idx\": 1433250180000, \"val\": 44}, {\"col\": \"created_at\", \"idx\": 1433250240000, \"val\": 21}, {\"col\": \"created_at\", \"idx\": 1433250300000, \"val\": 31}, {\"col\": \"created_at\", \"idx\": 1433250360000, \"val\": 16}, {\"col\": \"created_at\", \"idx\": 1433250420000, \"val\": 34}, {\"col\": \"created_at\", \"idx\": 1433250480000, \"val\": 34}, {\"col\": \"created_at\", \"idx\": 1433250540000, \"val\": 31}, {\"col\": \"created_at\", \"idx\": 1433250600000, \"val\": 62}, {\"col\": \"created_at\", \"idx\": 1433250660000, \"val\": 38}, {\"col\": \"created_at\", \"idx\": 1433250720000, \"val\": 26}, {\"col\": \"created_at\", \"idx\": 1433250780000, \"val\": 26}, {\"col\": \"created_at\", \"idx\": 1433250840000, \"val\": 28}, {\"col\": \"created_at\", \"idx\": 1433250900000, \"val\": 273}, {\"col\": \"created_at\", \"idx\": 1433250960000, \"val\": 166}, {\"col\": \"created_at\", \"idx\": 1433251020000, \"val\": 134}, {\"col\": \"created_at\", \"idx\": 1433251080000, \"val\": 99}, {\"col\": \"created_at\", \"idx\": 1433251140000, \"val\": 103}, {\"col\": \"created_at\", \"idx\": 1433251200000, \"val\": 305}, {\"col\": \"created_at\", \"idx\": 1433251260000, \"val\": 156}, {\"col\": \"created_at\", \"idx\": 1433251320000, \"val\": 96}, {\"col\": \"created_at\", \"idx\": 1433251380000, \"val\": 89}, {\"col\": \"created_at\", \"idx\": 1433251440000, \"val\": 75}, {\"col\": \"created_at\", \"idx\": 1433251500000, \"val\": 142}, {\"col\": \"created_at\", \"idx\": 1433251560000, \"val\": 90}, {\"col\": \"created_at\", \"idx\": 1433251620000, \"val\": 80}, {\"col\": \"created_at\", \"idx\": 1433251680000, \"val\": 51}, {\"col\": \"created_at\", \"idx\": 1433251740000, \"val\": 58}, {\"col\": \"created_at\", \"idx\": 1433251800000, \"val\": 42}, {\"col\": \"created_at\", \"idx\": 1433251860000, \"val\": 39}, {\"col\": \"created_at\", \"idx\": 1433251920000, \"val\": 40}, {\"col\": \"created_at\", \"idx\": 1433251980000, \"val\": 43}, {\"col\": \"created_at\", \"idx\": 1433252040000, \"val\": 46}, {\"col\": \"created_at\", \"idx\": 1433252100000, \"val\": 52}, {\"col\": \"created_at\", \"idx\": 1433252160000, \"val\": 30}, {\"col\": \"created_at\", \"idx\": 1433252220000, \"val\": 27}, {\"col\": \"created_at\", \"idx\": 1433252280000, \"val\": 27}, {\"col\": \"created_at\", \"idx\": 1433252340000, \"val\": 26}, {\"col\": \"created_at\", \"idx\": 1433252400000, \"val\": 41}, {\"col\": \"created_at\", \"idx\": 1433252460000, \"val\": 23}, {\"col\": \"created_at\", \"idx\": 1433252520000, \"val\": 79}, {\"col\": \"created_at\", \"idx\": 1433252580000, \"val\": 140}, {\"col\": \"created_at\", \"idx\": 1433252640000, \"val\": 118}, {\"col\": \"created_at\", \"idx\": 1433252700000, \"val\": 104}, {\"col\": \"created_at\", \"idx\": 1433252760000, \"val\": 106}, {\"col\": \"created_at\", \"idx\": 1433252820000, \"val\": 101}, {\"col\": \"created_at\", \"idx\": 1433252880000, \"val\": 94}, {\"col\": \"created_at\", \"idx\": 1433252940000, \"val\": 95}, {\"col\": \"created_at\", \"idx\": 1433253000000, \"val\": 97}, {\"col\": \"created_at\", \"idx\": 1433253060000, \"val\": 88}, {\"col\": \"created_at\", \"idx\": 1433253120000, \"val\": 66}, {\"col\": \"created_at\", \"idx\": 1433253180000, \"val\": 78}, {\"col\": \"created_at\", \"idx\": 1433253240000, \"val\": 111}, {\"col\": \"created_at\", \"idx\": 1433253300000, \"val\": 98}, {\"col\": \"created_at\", \"idx\": 1433253360000, \"val\": 83}, {\"col\": \"created_at\", \"idx\": 1433253420000, \"val\": 64}, {\"col\": \"created_at\", \"idx\": 1433253480000, \"val\": 75}, {\"col\": \"created_at\", \"idx\": 1433253540000, \"val\": 59}, {\"col\": \"created_at\", \"idx\": 1433253600000, \"val\": 67}, {\"col\": \"created_at\", \"idx\": 1433253660000, \"val\": 86}, {\"col\": \"created_at\", \"idx\": 1433253720000, \"val\": 154}, {\"col\": \"created_at\", \"idx\": 1433253780000, \"val\": 106}, {\"col\": \"created_at\", \"idx\": 1433253840000, \"val\": 95}, {\"col\": \"created_at\", \"idx\": 1433253900000, \"val\": 67}, {\"col\": \"created_at\", \"idx\": 1433253960000, \"val\": 81}, {\"col\": \"created_at\", \"idx\": 1433254020000, \"val\": 77}, {\"col\": \"created_at\", \"idx\": 1433254080000, \"val\": 57}, {\"col\": \"created_at\", \"idx\": 1433254140000, \"val\": 62}, {\"col\": \"created_at\", \"idx\": 1433254200000, \"val\": 74}, {\"col\": \"created_at\", \"idx\": 1433254260000, \"val\": 76}, {\"col\": \"created_at\", \"idx\": 1433254320000, \"val\": 55}, {\"col\": \"created_at\", \"idx\": 1433254380000, \"val\": 63}, {\"col\": \"created_at\", \"idx\": 1433254440000, \"val\": 33}, {\"col\": \"created_at\", \"idx\": 1433254500000, \"val\": 34}, {\"col\": \"created_at\", \"idx\": 1433254560000, \"val\": 43}, {\"col\": \"created_at\", \"idx\": 1433254620000, \"val\": 43}, {\"col\": \"created_at\", \"idx\": 1433254680000, \"val\": 35}, {\"col\": \"created_at\", \"idx\": 1433254740000, \"val\": 31}, {\"col\": \"created_at\", \"idx\": 1433254800000, \"val\": 35}, {\"col\": \"created_at\", \"idx\": 1433254860000, \"val\": 48}, {\"col\": \"created_at\", \"idx\": 1433254920000, \"val\": 51}, {\"col\": \"created_at\", \"idx\": 1433254980000, \"val\": 77}, {\"col\": \"created_at\", \"idx\": 1433255040000, \"val\": 66}, {\"col\": \"created_at\", \"idx\": 1433255100000, \"val\": 93}, {\"col\": \"created_at\", \"idx\": 1433255160000, \"val\": 129}, {\"col\": \"created_at\", \"idx\": 1433255220000, \"val\": 104}, {\"col\": \"created_at\", \"idx\": 1433255280000, \"val\": 74}, {\"col\": \"created_at\", \"idx\": 1433255340000, \"val\": 59}, {\"col\": \"created_at\", \"idx\": 1433255400000, \"val\": 76}, {\"col\": \"created_at\", \"idx\": 1433255460000, \"val\": 117}, {\"col\": \"created_at\", \"idx\": 1433255520000, \"val\": 114}, {\"col\": \"created_at\", \"idx\": 1433255580000, \"val\": 104}, {\"col\": \"created_at\", \"idx\": 1433255640000, \"val\": 100}, {\"col\": \"created_at\", \"idx\": 1433255700000, \"val\": 98}, {\"col\": \"created_at\", \"idx\": 1433255760000, \"val\": 128}, {\"col\": \"created_at\", \"idx\": 1433255820000, \"val\": 90}, {\"col\": \"created_at\", \"idx\": 1433255880000, \"val\": 63}, {\"col\": \"created_at\", \"idx\": 1433255940000, \"val\": 108}, {\"col\": \"created_at\", \"idx\": 1433256000000, \"val\": 107}, {\"col\": \"created_at\", \"idx\": 1433256060000, \"val\": 105}, {\"col\": \"created_at\", \"idx\": 1433256120000, \"val\": 88}, {\"col\": \"created_at\", \"idx\": 1433256180000, \"val\": 72}, {\"col\": \"created_at\", \"idx\": 1433256240000, \"val\": 80}, {\"col\": \"created_at\", \"idx\": 1433256300000, \"val\": 55}, {\"col\": \"created_at\", \"idx\": 1433256360000, \"val\": 58}, {\"col\": \"created_at\", \"idx\": 1433256420000, \"val\": 51}, {\"col\": \"created_at\", \"idx\": 1433256480000, \"val\": 43}, {\"col\": \"created_at\", \"idx\": 1433256540000, \"val\": 51}, {\"col\": \"created_at\", \"idx\": 1433256600000, \"val\": 39}, {\"col\": \"created_at\", \"idx\": 1433256660000, \"val\": 46}, {\"col\": \"created_at\", \"idx\": 1433256720000, \"val\": 64}, {\"col\": \"created_at\", \"idx\": 1433256780000, \"val\": 63}, {\"col\": \"created_at\", \"idx\": 1433256840000, \"val\": 72}, {\"col\": \"created_at\", \"idx\": 1433256900000, \"val\": 89}, {\"col\": \"created_at\", \"idx\": 1433256960000, \"val\": 64}, {\"col\": \"created_at\", \"idx\": 1433257020000, \"val\": 45}, {\"col\": \"created_at\", \"idx\": 1433257080000, \"val\": 54}, {\"col\": \"created_at\", \"idx\": 1433257140000, \"val\": 34}, {\"col\": \"created_at\", \"idx\": 1433257200000, \"val\": 26}, {\"col\": \"created_at\", \"idx\": 1433257260000, \"val\": 27}, {\"col\": \"created_at\", \"idx\": 1433257320000, \"val\": 28}, {\"col\": \"created_at\", \"idx\": 1433257380000, \"val\": 19}, {\"col\": \"created_at\", \"idx\": 1433257440000, \"val\": 25}, {\"col\": \"created_at\", \"idx\": 1433257500000, \"val\": 37}, {\"col\": \"created_at\", \"idx\": 1433257560000, \"val\": 17}, {\"col\": \"created_at\", \"idx\": 1433257620000, \"val\": 47}, {\"col\": \"created_at\", \"idx\": 1433257680000, \"val\": 37}, {\"col\": \"created_at\", \"idx\": 1433257740000, \"val\": 22}, {\"col\": \"created_at\", \"idx\": 1433257800000, \"val\": 36}, {\"col\": \"created_at\", \"idx\": 1433257860000, \"val\": 20}, {\"col\": \"created_at\", \"idx\": \"type\", \"val\": \"dodgers\"}]}, {\"name\": \"stats\", \"source\": \"table\", \"transform\": [{\"keys\": [\"data.idx\"], \"type\": \"facet\"}, {\"type\": \"stats\", \"value\": \"data.val\"}]}], \"height\": 500, \"legends\": [], \"marks\": [{\"from\": {\"data\": \"table\", \"transform\": [{\"keys\": [\"data.col\"], \"type\": \"facet\"}, {\"height\": \"data.val\", \"point\": \"data.idx\", \"type\": \"stack\"}]}, \"marks\": [{\"properties\": {\"enter\": {\"fill\": {\"field\": \"data.col\", \"scale\": \"color\"}, \"interpolate\": {\"value\": \"monotone\"}, \"x\": {\"field\": \"data.idx\", \"scale\": \"x\"}, \"y\": {\"field\": \"y\", \"scale\": \"y\"}, \"y2\": {\"field\": \"y2\", \"scale\": \"y\"}}}, \"type\": \"area\"}], \"type\": \"group\"}], \"padding\": \"auto\", \"scales\": [{\"domain\": {\"data\": \"table\", \"field\": \"data.idx\"}, \"name\": \"x\", \"range\": \"width\", \"type\": \"linear\", \"zero\": false}, {\"domain\": {\"data\": \"stats\", \"field\": \"sum\"}, \"name\": \"y\", \"nice\": true, \"range\": \"height\"}, {\"domain\": {\"data\": \"table\", \"field\": \"data.col\"}, \"name\": \"color\", \"range\": [\"#9e0142\", \"#d53e4f\", \"#f46d43\", \"#fdae61\", \"#fee08b\", \"#ffffbf\", \"#e6f598\", \"#abdda4\", \"#66c2a5\", \"#3288bd\", \"#5e4fa2\"], \"type\": \"ordinal\"}], \"width\": 960}, function(chart) {\n",
        "         chart({el: \"#visf5c402c640ca4d8e96f2ce1d27be7f72\"}).update();\n",
        "       });\n",
        "     };\n",
        "     _do_plot();\n",
        "   })();\n",
        "</script>\n",
        "<style>.vega canvas {width: 100%;}</style>\n",
        "        "
       ],
       "metadata": {},
       "output_type": "display_data",
       "text": [
        "<IPython.core.display.HTML at 0x109a3bc90>"
       ]
      }
     ],
     "prompt_number": 21
    },
    {
     "cell_type": "code",
     "collapsed": false,
     "input": [
      "import vincent\n",
      "vincent.core.initialize_notebook()\n",
      "\n",
      "bar = vincent.Bar(dodgers.source.value_counts().head(10))\n",
      "bar.axis_titles(x='Index', y='Value')\n",
      "bar.display()\n",
      "\n",
      "bar2 = vincent.Bar(rockies.source.value_counts().head(10))\n",
      "bar2.axis_titles(x='Index', y='Value')\n",
      "bar2.display()"
     ],
     "language": "python",
     "metadata": {},
     "outputs": [
      {
       "html": [
        "\n",
        "           <script>\n",
        "               \n",
        "                function vct_load_lib(url, callback){\n",
        "                      if(typeof d3 !== 'undefined' &&\n",
        "                         url === 'http://d3js.org/d3.v3.min.js'){\n",
        "                        callback()\n",
        "                      }\n",
        "                      var s = document.createElement('script');\n",
        "                      s.src = url;\n",
        "                      s.async = true;\n",
        "                      s.onreadystatechange = s.onload = callback;\n",
        "                      s.onerror = function(){\n",
        "                        console.warn(\"failed to load library \" + url);\n",
        "                        };\n",
        "                      document.getElementsByTagName(\"head\")[0].appendChild(s);\n",
        "                };\n",
        "                var vincent_event = new CustomEvent(\n",
        "                  \"vincent_libs_loaded\",\n",
        "                  {bubbles: true, cancelable: true}\n",
        "                );\n",
        "                \n",
        "               function load_all_libs(){\n",
        "                  console.log('Loading Vincent libs...')\n",
        "                  vct_load_lib('http://d3js.org/d3.v3.min.js', function(){\n",
        "                  vct_load_lib('http://d3js.org/d3.geo.projection.v0.min.js', function(){\n",
        "                  vct_load_lib('http://wrobstory.github.io/d3-cloud/d3.layout.cloud.js', function(){\n",
        "                  vct_load_lib('http://wrobstory.github.io/vega/vega.v1.3.3.js', function(){\n",
        "                  window.dispatchEvent(vincent_event);\n",
        "                  });\n",
        "                  });\n",
        "                  });\n",
        "                  });\n",
        "               };\n",
        "               if(typeof define === \"function\" && define.amd){\n",
        "                    if (window['d3'] === undefined ||\n",
        "                        window['topojson'] === undefined){\n",
        "                        require.config(\n",
        "                            {paths: {\n",
        "                              d3: 'http://d3js.org/d3.v3.min',\n",
        "                              topojson: 'http://d3js.org/topojson.v1.min'\n",
        "                              }\n",
        "                            }\n",
        "                          );\n",
        "                        require([\"d3\"], function(d3){\n",
        "                            console.log('Loading Vincent from require.js...')\n",
        "                            window.d3 = d3;\n",
        "                            require([\"topojson\"], function(topojson){\n",
        "                                window.topojson = topojson;\n",
        "                                load_all_libs();\n",
        "                            });\n",
        "                        });\n",
        "                    } else {\n",
        "                        load_all_libs();\n",
        "                    };\n",
        "               }else{\n",
        "                    console.log('Require.js not found, loading manually...')\n",
        "                    load_all_libs();\n",
        "               };\n",
        "\n",
        "           </script>"
       ],
       "metadata": {},
       "output_type": "display_data",
       "text": [
        "<IPython.core.display.HTML at 0x10e293590>"
       ]
      },
      {
       "html": [
        "<div id=\"vis18f5514ebdf14703ac1b814193938509\"></div>\n",
        "<script>\n",
        "   ( function() {\n",
        "     var _do_plot = function() {\n",
        "       if (typeof vg === 'undefined') {\n",
        "         window.addEventListener('vincent_libs_loaded', _do_plot)\n",
        "         return;\n",
        "       }\n",
        "       vg.parse.spec({\"axes\": [{\"scale\": \"x\", \"title\": \"Index\", \"type\": \"x\"}, {\"scale\": \"y\", \"title\": \"Value\", \"type\": \"y\"}], \"data\": [{\"name\": \"table\", \"values\": [{\"col\": \"data\", \"idx\": \"Twitter for iPhone\", \"val\": 4940}, {\"col\": \"data\", \"idx\": \"Twitter for Android\", \"val\": 1560}, {\"col\": \"data\", \"idx\": \"twitterfeed\", \"val\": 1558}, {\"col\": \"data\", \"idx\": \"Twitter Web Client\", \"val\": 640}, {\"col\": \"data\", \"idx\": \"dlvr.it\", \"val\": 432}, {\"col\": \"data\", \"idx\": \"IFTTT\", \"val\": 303}, {\"col\": \"data\", \"idx\": \"Twitter for iPad\", \"val\": 201}, {\"col\": \"data\", \"idx\": \"TweetDeck\", \"val\": 153}, {\"col\": \"data\", \"idx\": \"Twitter for Android Tablets\", \"val\": 84}, {\"col\": \"data\", \"idx\": \"Echofon\", \"val\": 64}]}, {\"name\": \"stats\", \"source\": \"table\", \"transform\": [{\"keys\": [\"data.idx\"], \"type\": \"facet\"}, {\"type\": \"stats\", \"value\": \"data.val\"}]}], \"height\": 500, \"legends\": [], \"marks\": [{\"from\": {\"data\": \"table\", \"transform\": [{\"keys\": [\"data.col\"], \"type\": \"facet\"}, {\"height\": \"data.val\", \"point\": \"data.idx\", \"type\": \"stack\"}]}, \"marks\": [{\"properties\": {\"enter\": {\"fill\": {\"field\": \"data.col\", \"scale\": \"color\"}, \"width\": {\"band\": true, \"offset\": -1, \"scale\": \"x\"}, \"x\": {\"field\": \"data.idx\", \"scale\": \"x\"}, \"y\": {\"field\": \"y\", \"scale\": \"y\"}, \"y2\": {\"field\": \"y2\", \"scale\": \"y\"}}}, \"type\": \"rect\"}], \"type\": \"group\"}], \"padding\": \"auto\", \"scales\": [{\"domain\": {\"data\": \"table\", \"field\": \"data.idx\"}, \"name\": \"x\", \"range\": \"width\", \"type\": \"ordinal\", \"zero\": false}, {\"domain\": {\"data\": \"stats\", \"field\": \"sum\"}, \"name\": \"y\", \"nice\": true, \"range\": \"height\"}, {\"domain\": {\"data\": \"table\", \"field\": \"data.col\"}, \"name\": \"color\", \"range\": \"category20\", \"type\": \"ordinal\"}], \"width\": 960}, function(chart) {\n",
        "         chart({el: \"#vis18f5514ebdf14703ac1b814193938509\"}).update();\n",
        "       });\n",
        "     };\n",
        "     _do_plot();\n",
        "   })();\n",
        "</script>\n",
        "<style>.vega canvas {width: 100%;}</style>\n",
        "        "
       ],
       "metadata": {},
       "output_type": "display_data",
       "text": [
        "<IPython.core.display.HTML at 0x10679b690>"
       ]
      },
      {
       "html": [
        "<div id=\"vis06d16d5c53314cc992fca14ff5d66cf1\"></div>\n",
        "<script>\n",
        "   ( function() {\n",
        "     var _do_plot = function() {\n",
        "       if (typeof vg === 'undefined') {\n",
        "         window.addEventListener('vincent_libs_loaded', _do_plot)\n",
        "         return;\n",
        "       }\n",
        "       vg.parse.spec({\"axes\": [{\"scale\": \"x\", \"title\": \"Index\", \"type\": \"x\"}, {\"scale\": \"y\", \"title\": \"Value\", \"type\": \"y\"}], \"data\": [{\"name\": \"table\", \"values\": [{\"col\": \"data\", \"idx\": \"twitterfeed\", \"val\": 1490}, {\"col\": \"data\", \"idx\": \"Twitter for iPhone\", \"val\": 1016}, {\"col\": \"data\", \"idx\": \"Twitter for Android\", \"val\": 369}, {\"col\": \"data\", \"idx\": \"dlvr.it\", \"val\": 291}, {\"col\": \"data\", \"idx\": \"Twitter Web Client\", \"val\": 229}, {\"col\": \"data\", \"idx\": \"IFTTT\", \"val\": 162}, {\"col\": \"data\", \"idx\": \"TweetDeck\", \"val\": 85}, {\"col\": \"data\", \"idx\": \"Twitter for iPad\", \"val\": 79}, {\"col\": \"data\", \"idx\": \"Instagram\", \"val\": 47}, {\"col\": \"data\", \"idx\": \"Twitter for Windows\", \"val\": 30}]}, {\"name\": \"stats\", \"source\": \"table\", \"transform\": [{\"keys\": [\"data.idx\"], \"type\": \"facet\"}, {\"type\": \"stats\", \"value\": \"data.val\"}]}], \"height\": 500, \"legends\": [], \"marks\": [{\"from\": {\"data\": \"table\", \"transform\": [{\"keys\": [\"data.col\"], \"type\": \"facet\"}, {\"height\": \"data.val\", \"point\": \"data.idx\", \"type\": \"stack\"}]}, \"marks\": [{\"properties\": {\"enter\": {\"fill\": {\"field\": \"data.col\", \"scale\": \"color\"}, \"width\": {\"band\": true, \"offset\": -1, \"scale\": \"x\"}, \"x\": {\"field\": \"data.idx\", \"scale\": \"x\"}, \"y\": {\"field\": \"y\", \"scale\": \"y\"}, \"y2\": {\"field\": \"y2\", \"scale\": \"y\"}}}, \"type\": \"rect\"}], \"type\": \"group\"}], \"padding\": \"auto\", \"scales\": [{\"domain\": {\"data\": \"table\", \"field\": \"data.idx\"}, \"name\": \"x\", \"range\": \"width\", \"type\": \"ordinal\", \"zero\": false}, {\"domain\": {\"data\": \"stats\", \"field\": \"sum\"}, \"name\": \"y\", \"nice\": true, \"range\": \"height\"}, {\"domain\": {\"data\": \"table\", \"field\": \"data.col\"}, \"name\": \"color\", \"range\": \"category20\", \"type\": \"ordinal\"}], \"width\": 960}, function(chart) {\n",
        "         chart({el: \"#vis06d16d5c53314cc992fca14ff5d66cf1\"}).update();\n",
        "       });\n",
        "     };\n",
        "     _do_plot();\n",
        "   })();\n",
        "</script>\n",
        "<style>.vega canvas {width: 100%;}</style>\n",
        "        "
       ],
       "metadata": {},
       "output_type": "display_data",
       "text": [
        "<IPython.core.display.HTML at 0x10e293ed0>"
       ]
      }
     ],
     "prompt_number": 38
    },
    {
     "cell_type": "code",
     "collapsed": false,
     "input": [],
     "language": "python",
     "metadata": {},
     "outputs": [],
     "prompt_number": 29
    },
    {
     "cell_type": "code",
     "collapsed": false,
     "input": [],
     "language": "python",
     "metadata": {},
     "outputs": []
    }
   ],
   "metadata": {}
  }
 ]
}