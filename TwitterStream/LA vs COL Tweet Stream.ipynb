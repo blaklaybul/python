{
 "metadata": {
  "name": "",
  "signature": "sha256:4148ba9039c50a3551e86a87f40223ee262d4b2bff96297e90fe42f140a29f03"
 },
 "nbformat": 3,
 "nbformat_minor": 0,
 "worksheets": [
  {
   "cells": [
    {
     "cell_type": "heading",
     "level": 1,
     "metadata": {},
     "source": [
      "Twitter Stream with Tweepy"
     ]
    },
    {
     "cell_type": "markdown",
     "metadata": {},
     "source": [
      "Using tweepy, we track tweets during the LA Dodgers and Colorado Rockies game on Wednesday. Authorization is set up using keys and access tokens provided by twitter. Tweepy's built in OAuthHandler sets up a connection with Twitter's API, and we create a StreamListener that catches all tweets filtered to our liking. For the sake of space, I put only the files that trackers all occurrences of the word 'dodgers' - the same code work for the Rockies tracker as well."
     ]
    },
    {
     "cell_type": "code",
     "collapsed": false,
     "input": [
      "import tweepy\n",
      "import sys\n",
      "import pymongo\n",
      "\n",
      "ckey = ''\n",
      "csec = ''\n",
      "atok = ''\n",
      "asec = ''\n",
      "\n",
      "auth = tweepy.OAuthHandler(ckey, csec)\n",
      "auth.set_access_token(atok, asec)\n",
      "api = tweepy.API(auth)\n",
      "\n",
      "class CustomStreamListener(tweepy.StreamListener):\n",
      "    def __init__(self, api):\n",
      "        self.api = api\n",
      "        super(tweepy.StreamListener, self).__init__()\n",
      "\n",
      "        self.db = pymongo.MongoClient().Dodgers\n",
      "\n",
      "    def on_status(self, status):\n",
      "        print status.text , \"\\n\"\n",
      "\n",
      "        data ={}\n",
      "        data['text'] = status.text\n",
      "        data['created_at'] = status.created_at\n",
      "        data['geo'] = status.geo\n",
      "        data['source'] = status.source\n",
      "\n",
      "        self.db.Tweets.insert(data)\n",
      "\n",
      "    def on_error(self, status_code):\n",
      "        print >> sys.stderr, 'Encountered error with status code:', status_code\n",
      "        return True # Don't kill the stream\n",
      "\n",
      "    def on_timeout(self):\n",
      "        print >> sys.stderr, 'Timeout...'\n",
      "        return True # Don't kill the stream\n",
      "\n",
      "sapi = tweepy.streaming.Stream(auth, CustomStreamListener(api))\n",
      "sapi.filter(track=['dodgers'])"
     ],
     "language": "python",
     "metadata": {},
     "outputs": []
    },
    {
     "cell_type": "heading",
     "level": 1,
     "metadata": {},
     "source": [
      "Analysis"
     ]
    },
    {
     "cell_type": "markdown",
     "metadata": {},
     "source": []
    },
    {
     "cell_type": "code",
     "collapsed": false,
     "input": [
      "import pandas as pd\n",
      "from pandas.tseries.resample import TimeGrouper\n",
      "from pandas.tseries.offsets import DateOffset\n",
      "\n",
      "dodgers = pd.read_csv('/Users/Michael/Repos/python/TwitterStream/Dodgers.csv')\n",
      "dodgers['created_at'] = pd.to_datetime(pd.Series(dodgers['created_at']))\n",
      "dodgers.set_index('created_at', drop=False, inplace=True)\n",
      "dodgers.index = dodgers.index.tz_localize('GMT').tz_convert('EST')\n",
      "dodgers.index = dodgers.index - DateOffset(hours = 12)\n",
      "\n",
      "\n",
      "rockies = pd.read_csv('/Users/Michael/Repos/python/TwitterStream/Rockies.csv')\n",
      "rockies['created_at'] = pd.to_datetime(pd.Series(rockies['created_at']))\n",
      "rockies.set_index('created_at', drop=False, inplace=True)\n",
      "rockies.index = rockies.index.tz_localize('GMT').tz_convert('EST')\n",
      "rockies.index = rockies.index - DateOffset(hours = 12)\n",
      "\n",
      "dodgers_per_min = dodgers['created_at'].resample('1t', how='count')\n",
      "rockies_per_min = rockies['created_at'].resample('1t', how='count')\n"
     ],
     "language": "python",
     "metadata": {},
     "outputs": [],
     "prompt_number": 48
    },
    {
     "cell_type": "code",
     "collapsed": false,
     "input": [
      "import vincent\n",
      "vincent.core.initialize_notebook()\n",
      "area = vincent.StackedArea(dodgers_per_min)\n",
      "area.colors(brew='Spectral')\n",
      "area.display()"
     ],
     "language": "python",
     "metadata": {},
     "outputs": [
      {
       "html": [
        "\n",
        "           <script>\n",
        "               \n",
        "                function vct_load_lib(url, callback){\n",
        "                      if(typeof d3 !== 'undefined' &&\n",
        "                         url === 'http://d3js.org/d3.v3.min.js'){\n",
        "                        callback()\n",
        "                      }\n",
        "                      var s = document.createElement('script');\n",
        "                      s.src = url;\n",
        "                      s.async = true;\n",
        "                      s.onreadystatechange = s.onload = callback;\n",
        "                      s.onerror = function(){\n",
        "                        console.warn(\"failed to load library \" + url);\n",
        "                        };\n",
        "                      document.getElementsByTagName(\"head\")[0].appendChild(s);\n",
        "                };\n",
        "                var vincent_event = new CustomEvent(\n",
        "                  \"vincent_libs_loaded\",\n",
        "                  {bubbles: true, cancelable: true}\n",
        "                );\n",
        "                \n",
        "               function load_all_libs(){\n",
        "                  console.log('Loading Vincent libs...')\n",
        "                  vct_load_lib('http://d3js.org/d3.v3.min.js', function(){\n",
        "                  vct_load_lib('http://d3js.org/d3.geo.projection.v0.min.js', function(){\n",
        "                  vct_load_lib('http://wrobstory.github.io/d3-cloud/d3.layout.cloud.js', function(){\n",
        "                  vct_load_lib('http://wrobstory.github.io/vega/vega.v1.3.3.js', function(){\n",
        "                  window.dispatchEvent(vincent_event);\n",
        "                  });\n",
        "                  });\n",
        "                  });\n",
        "                  });\n",
        "               };\n",
        "               if(typeof define === \"function\" && define.amd){\n",
        "                    if (window['d3'] === undefined ||\n",
        "                        window['topojson'] === undefined){\n",
        "                        require.config(\n",
        "                            {paths: {\n",
        "                              d3: 'http://d3js.org/d3.v3.min',\n",
        "                              topojson: 'http://d3js.org/topojson.v1.min'\n",
        "                              }\n",
        "                            }\n",
        "                          );\n",
        "                        require([\"d3\"], function(d3){\n",
        "                            console.log('Loading Vincent from require.js...')\n",
        "                            window.d3 = d3;\n",
        "                            require([\"topojson\"], function(topojson){\n",
        "                                window.topojson = topojson;\n",
        "                                load_all_libs();\n",
        "                            });\n",
        "                        });\n",
        "                    } else {\n",
        "                        load_all_libs();\n",
        "                    };\n",
        "               }else{\n",
        "                    console.log('Require.js not found, loading manually...')\n",
        "                    load_all_libs();\n",
        "               };\n",
        "\n",
        "           </script>"
       ],
       "metadata": {},
       "output_type": "display_data",
       "text": [
        "<IPython.core.display.HTML at 0x10dadebd0>"
       ]
      },
      {
       "html": [
        "<div id=\"viscf86bea36453463886c60442e3fb1ef7\"></div>\n",
        "<script>\n",
        "   ( function() {\n",
        "     var _do_plot = function() {\n",
        "       if (typeof vg === 'undefined') {\n",
        "         window.addEventListener('vincent_libs_loaded', _do_plot)\n",
        "         return;\n",
        "       }\n",
        "       vg.parse.spec({\"axes\": [{\"scale\": \"x\", \"type\": \"x\"}, {\"scale\": \"y\", \"type\": \"y\"}], \"data\": [{\"name\": \"table\", \"values\": [{\"col\": \"created_at\", \"idx\": 1433265120000, \"val\": 7}, {\"col\": \"created_at\", \"idx\": 1433265180000, \"val\": 20}, {\"col\": \"created_at\", \"idx\": 1433265240000, \"val\": 8}, {\"col\": \"created_at\", \"idx\": 1433265300000, \"val\": 11}, {\"col\": \"created_at\", \"idx\": 1433265360000, \"val\": 9}, {\"col\": \"created_at\", \"idx\": 1433265420000, \"val\": 18}, {\"col\": \"created_at\", \"idx\": 1433265480000, \"val\": 11}, {\"col\": \"created_at\", \"idx\": 1433265540000, \"val\": 15}, {\"col\": \"created_at\", \"idx\": 1433265600000, \"val\": 7}, {\"col\": \"created_at\", \"idx\": 1433265660000, \"val\": 19}, {\"col\": \"created_at\", \"idx\": 1433265720000, \"val\": 15}, {\"col\": \"created_at\", \"idx\": 1433265780000, \"val\": 7}, {\"col\": \"created_at\", \"idx\": 1433265840000, \"val\": 8}, {\"col\": \"created_at\", \"idx\": 1433265900000, \"val\": 10}, {\"col\": \"created_at\", \"idx\": 1433265960000, \"val\": 7}, {\"col\": \"created_at\", \"idx\": 1433266020000, \"val\": 8}, {\"col\": \"created_at\", \"idx\": 1433266080000, \"val\": 39}, {\"col\": \"created_at\", \"idx\": 1433266140000, \"val\": 7}, {\"col\": \"created_at\", \"idx\": 1433266200000, \"val\": 24}, {\"col\": \"created_at\", \"idx\": 1433266260000, \"val\": 24}, {\"col\": \"created_at\", \"idx\": 1433266320000, \"val\": 19}, {\"col\": \"created_at\", \"idx\": 1433266380000, \"val\": 10}, {\"col\": \"created_at\", \"idx\": 1433266440000, \"val\": 15}, {\"col\": \"created_at\", \"idx\": 1433266500000, \"val\": 9}, {\"col\": \"created_at\", \"idx\": 1433266560000, \"val\": 13}, {\"col\": \"created_at\", \"idx\": 1433266620000, \"val\": 15}, {\"col\": \"created_at\", \"idx\": 1433266680000, \"val\": 21}, {\"col\": \"created_at\", \"idx\": 1433266740000, \"val\": 81}, {\"col\": \"created_at\", \"idx\": 1433266800000, \"val\": 59}, {\"col\": \"created_at\", \"idx\": 1433266860000, \"val\": 59}, {\"col\": \"created_at\", \"idx\": 1433266920000, \"val\": 43}, {\"col\": \"created_at\", \"idx\": 1433266980000, \"val\": 115}, {\"col\": \"created_at\", \"idx\": 1433267040000, \"val\": 76}, {\"col\": \"created_at\", \"idx\": 1433267100000, \"val\": 58}, {\"col\": \"created_at\", \"idx\": 1433267160000, \"val\": 43}, {\"col\": \"created_at\", \"idx\": 1433267220000, \"val\": 47}, {\"col\": \"created_at\", \"idx\": 1433267280000, \"val\": 37}, {\"col\": \"created_at\", \"idx\": 1433267340000, \"val\": 22}, {\"col\": \"created_at\", \"idx\": 1433267400000, \"val\": 43}, {\"col\": \"created_at\", \"idx\": 1433267460000, \"val\": 16}, {\"col\": \"created_at\", \"idx\": 1433267520000, \"val\": 24}, {\"col\": \"created_at\", \"idx\": 1433267580000, \"val\": 44}, {\"col\": \"created_at\", \"idx\": 1433267640000, \"val\": 26}, {\"col\": \"created_at\", \"idx\": 1433267700000, \"val\": 28}, {\"col\": \"created_at\", \"idx\": 1433267760000, \"val\": 21}, {\"col\": \"created_at\", \"idx\": 1433267820000, \"val\": 15}, {\"col\": \"created_at\", \"idx\": 1433267880000, \"val\": 30}, {\"col\": \"created_at\", \"idx\": 1433267940000, \"val\": 43}, {\"col\": \"created_at\", \"idx\": 1433268000000, \"val\": 93}, {\"col\": \"created_at\", \"idx\": 1433268060000, \"val\": 65}, {\"col\": \"created_at\", \"idx\": 1433268120000, \"val\": 47}, {\"col\": \"created_at\", \"idx\": 1433268180000, \"val\": 44}, {\"col\": \"created_at\", \"idx\": 1433268240000, \"val\": 21}, {\"col\": \"created_at\", \"idx\": 1433268300000, \"val\": 31}, {\"col\": \"created_at\", \"idx\": 1433268360000, \"val\": 16}, {\"col\": \"created_at\", \"idx\": 1433268420000, \"val\": 34}, {\"col\": \"created_at\", \"idx\": 1433268480000, \"val\": 34}, {\"col\": \"created_at\", \"idx\": 1433268540000, \"val\": 31}, {\"col\": \"created_at\", \"idx\": 1433268600000, \"val\": 62}, {\"col\": \"created_at\", \"idx\": 1433268660000, \"val\": 38}, {\"col\": \"created_at\", \"idx\": 1433268720000, \"val\": 26}, {\"col\": \"created_at\", \"idx\": 1433268780000, \"val\": 26}, {\"col\": \"created_at\", \"idx\": 1433268840000, \"val\": 28}, {\"col\": \"created_at\", \"idx\": 1433268900000, \"val\": 273}, {\"col\": \"created_at\", \"idx\": 1433268960000, \"val\": 166}, {\"col\": \"created_at\", \"idx\": 1433269020000, \"val\": 134}, {\"col\": \"created_at\", \"idx\": 1433269080000, \"val\": 99}, {\"col\": \"created_at\", \"idx\": 1433269140000, \"val\": 103}, {\"col\": \"created_at\", \"idx\": 1433269200000, \"val\": 305}, {\"col\": \"created_at\", \"idx\": 1433269260000, \"val\": 156}, {\"col\": \"created_at\", \"idx\": 1433269320000, \"val\": 96}, {\"col\": \"created_at\", \"idx\": 1433269380000, \"val\": 89}, {\"col\": \"created_at\", \"idx\": 1433269440000, \"val\": 75}, {\"col\": \"created_at\", \"idx\": 1433269500000, \"val\": 142}, {\"col\": \"created_at\", \"idx\": 1433269560000, \"val\": 90}, {\"col\": \"created_at\", \"idx\": 1433269620000, \"val\": 80}, {\"col\": \"created_at\", \"idx\": 1433269680000, \"val\": 51}, {\"col\": \"created_at\", \"idx\": 1433269740000, \"val\": 58}, {\"col\": \"created_at\", \"idx\": 1433269800000, \"val\": 42}, {\"col\": \"created_at\", \"idx\": 1433269860000, \"val\": 39}, {\"col\": \"created_at\", \"idx\": 1433269920000, \"val\": 40}, {\"col\": \"created_at\", \"idx\": 1433269980000, \"val\": 43}, {\"col\": \"created_at\", \"idx\": 1433270040000, \"val\": 46}, {\"col\": \"created_at\", \"idx\": 1433270100000, \"val\": 52}, {\"col\": \"created_at\", \"idx\": 1433270160000, \"val\": 30}, {\"col\": \"created_at\", \"idx\": 1433270220000, \"val\": 27}, {\"col\": \"created_at\", \"idx\": 1433270280000, \"val\": 27}, {\"col\": \"created_at\", \"idx\": 1433270340000, \"val\": 26}, {\"col\": \"created_at\", \"idx\": 1433270400000, \"val\": 41}, {\"col\": \"created_at\", \"idx\": 1433270460000, \"val\": 23}, {\"col\": \"created_at\", \"idx\": 1433270520000, \"val\": 79}, {\"col\": \"created_at\", \"idx\": 1433270580000, \"val\": 140}, {\"col\": \"created_at\", \"idx\": 1433270640000, \"val\": 118}, {\"col\": \"created_at\", \"idx\": 1433270700000, \"val\": 104}, {\"col\": \"created_at\", \"idx\": 1433270760000, \"val\": 106}, {\"col\": \"created_at\", \"idx\": 1433270820000, \"val\": 101}, {\"col\": \"created_at\", \"idx\": 1433270880000, \"val\": 94}, {\"col\": \"created_at\", \"idx\": 1433270940000, \"val\": 95}, {\"col\": \"created_at\", \"idx\": 1433271000000, \"val\": 97}, {\"col\": \"created_at\", \"idx\": 1433271060000, \"val\": 88}, {\"col\": \"created_at\", \"idx\": 1433271120000, \"val\": 66}, {\"col\": \"created_at\", \"idx\": 1433271180000, \"val\": 78}, {\"col\": \"created_at\", \"idx\": 1433271240000, \"val\": 111}, {\"col\": \"created_at\", \"idx\": 1433271300000, \"val\": 98}, {\"col\": \"created_at\", \"idx\": 1433271360000, \"val\": 83}, {\"col\": \"created_at\", \"idx\": 1433271420000, \"val\": 64}, {\"col\": \"created_at\", \"idx\": 1433271480000, \"val\": 75}, {\"col\": \"created_at\", \"idx\": 1433271540000, \"val\": 59}, {\"col\": \"created_at\", \"idx\": 1433271600000, \"val\": 67}, {\"col\": \"created_at\", \"idx\": 1433271660000, \"val\": 86}, {\"col\": \"created_at\", \"idx\": 1433271720000, \"val\": 154}, {\"col\": \"created_at\", \"idx\": 1433271780000, \"val\": 106}, {\"col\": \"created_at\", \"idx\": 1433271840000, \"val\": 95}, {\"col\": \"created_at\", \"idx\": 1433271900000, \"val\": 67}, {\"col\": \"created_at\", \"idx\": 1433271960000, \"val\": 81}, {\"col\": \"created_at\", \"idx\": 1433272020000, \"val\": 77}, {\"col\": \"created_at\", \"idx\": 1433272080000, \"val\": 57}, {\"col\": \"created_at\", \"idx\": 1433272140000, \"val\": 62}, {\"col\": \"created_at\", \"idx\": 1433272200000, \"val\": 74}, {\"col\": \"created_at\", \"idx\": 1433272260000, \"val\": 76}, {\"col\": \"created_at\", \"idx\": 1433272320000, \"val\": 55}, {\"col\": \"created_at\", \"idx\": 1433272380000, \"val\": 63}, {\"col\": \"created_at\", \"idx\": 1433272440000, \"val\": 33}, {\"col\": \"created_at\", \"idx\": 1433272500000, \"val\": 34}, {\"col\": \"created_at\", \"idx\": 1433272560000, \"val\": 43}, {\"col\": \"created_at\", \"idx\": 1433272620000, \"val\": 43}, {\"col\": \"created_at\", \"idx\": 1433272680000, \"val\": 35}, {\"col\": \"created_at\", \"idx\": 1433272740000, \"val\": 31}, {\"col\": \"created_at\", \"idx\": 1433272800000, \"val\": 35}, {\"col\": \"created_at\", \"idx\": 1433272860000, \"val\": 48}, {\"col\": \"created_at\", \"idx\": 1433272920000, \"val\": 51}, {\"col\": \"created_at\", \"idx\": 1433272980000, \"val\": 77}, {\"col\": \"created_at\", \"idx\": 1433273040000, \"val\": 66}, {\"col\": \"created_at\", \"idx\": 1433273100000, \"val\": 93}, {\"col\": \"created_at\", \"idx\": 1433273160000, \"val\": 129}, {\"col\": \"created_at\", \"idx\": 1433273220000, \"val\": 104}, {\"col\": \"created_at\", \"idx\": 1433273280000, \"val\": 74}, {\"col\": \"created_at\", \"idx\": 1433273340000, \"val\": 59}, {\"col\": \"created_at\", \"idx\": 1433273400000, \"val\": 76}, {\"col\": \"created_at\", \"idx\": 1433273460000, \"val\": 117}, {\"col\": \"created_at\", \"idx\": 1433273520000, \"val\": 114}, {\"col\": \"created_at\", \"idx\": 1433273580000, \"val\": 104}, {\"col\": \"created_at\", \"idx\": 1433273640000, \"val\": 100}, {\"col\": \"created_at\", \"idx\": 1433273700000, \"val\": 98}, {\"col\": \"created_at\", \"idx\": 1433273760000, \"val\": 128}, {\"col\": \"created_at\", \"idx\": 1433273820000, \"val\": 90}, {\"col\": \"created_at\", \"idx\": 1433273880000, \"val\": 63}, {\"col\": \"created_at\", \"idx\": 1433273940000, \"val\": 108}, {\"col\": \"created_at\", \"idx\": 1433274000000, \"val\": 107}, {\"col\": \"created_at\", \"idx\": 1433274060000, \"val\": 105}, {\"col\": \"created_at\", \"idx\": 1433274120000, \"val\": 88}, {\"col\": \"created_at\", \"idx\": 1433274180000, \"val\": 72}, {\"col\": \"created_at\", \"idx\": 1433274240000, \"val\": 80}, {\"col\": \"created_at\", \"idx\": 1433274300000, \"val\": 55}, {\"col\": \"created_at\", \"idx\": 1433274360000, \"val\": 58}, {\"col\": \"created_at\", \"idx\": 1433274420000, \"val\": 51}, {\"col\": \"created_at\", \"idx\": 1433274480000, \"val\": 43}, {\"col\": \"created_at\", \"idx\": 1433274540000, \"val\": 51}, {\"col\": \"created_at\", \"idx\": 1433274600000, \"val\": 39}, {\"col\": \"created_at\", \"idx\": 1433274660000, \"val\": 46}, {\"col\": \"created_at\", \"idx\": 1433274720000, \"val\": 64}, {\"col\": \"created_at\", \"idx\": 1433274780000, \"val\": 63}, {\"col\": \"created_at\", \"idx\": 1433274840000, \"val\": 72}, {\"col\": \"created_at\", \"idx\": 1433274900000, \"val\": 89}, {\"col\": \"created_at\", \"idx\": 1433274960000, \"val\": 64}, {\"col\": \"created_at\", \"idx\": 1433275020000, \"val\": 45}, {\"col\": \"created_at\", \"idx\": 1433275080000, \"val\": 54}, {\"col\": \"created_at\", \"idx\": 1433275140000, \"val\": 34}, {\"col\": \"created_at\", \"idx\": 1433275200000, \"val\": 26}, {\"col\": \"created_at\", \"idx\": 1433275260000, \"val\": 27}, {\"col\": \"created_at\", \"idx\": 1433275320000, \"val\": 28}, {\"col\": \"created_at\", \"idx\": 1433275380000, \"val\": 19}, {\"col\": \"created_at\", \"idx\": 1433275440000, \"val\": 25}, {\"col\": \"created_at\", \"idx\": 1433275500000, \"val\": 37}, {\"col\": \"created_at\", \"idx\": 1433275560000, \"val\": 17}, {\"col\": \"created_at\", \"idx\": 1433275620000, \"val\": 47}, {\"col\": \"created_at\", \"idx\": 1433275680000, \"val\": 37}, {\"col\": \"created_at\", \"idx\": 1433275740000, \"val\": 22}, {\"col\": \"created_at\", \"idx\": 1433275800000, \"val\": 36}, {\"col\": \"created_at\", \"idx\": 1433275860000, \"val\": 20}]}, {\"name\": \"stats\", \"source\": \"table\", \"transform\": [{\"keys\": [\"data.idx\"], \"type\": \"facet\"}, {\"type\": \"stats\", \"value\": \"data.val\"}]}], \"height\": 500, \"legends\": [], \"marks\": [{\"from\": {\"data\": \"table\", \"transform\": [{\"keys\": [\"data.col\"], \"type\": \"facet\"}, {\"height\": \"data.val\", \"point\": \"data.idx\", \"type\": \"stack\"}]}, \"marks\": [{\"properties\": {\"enter\": {\"fill\": {\"field\": \"data.col\", \"scale\": \"color\"}, \"interpolate\": {\"value\": \"monotone\"}, \"x\": {\"field\": \"data.idx\", \"scale\": \"x\"}, \"y\": {\"field\": \"y\", \"scale\": \"y\"}, \"y2\": {\"field\": \"y2\", \"scale\": \"y\"}}}, \"type\": \"area\"}], \"type\": \"group\"}], \"padding\": \"auto\", \"scales\": [{\"domain\": {\"data\": \"table\", \"field\": \"data.idx\"}, \"name\": \"x\", \"range\": \"width\", \"type\": \"time\", \"zero\": false}, {\"domain\": {\"data\": \"stats\", \"field\": \"sum\"}, \"name\": \"y\", \"nice\": true, \"range\": \"height\"}, {\"domain\": {\"data\": \"table\", \"field\": \"data.col\"}, \"name\": \"color\", \"range\": [\"#9e0142\", \"#d53e4f\", \"#f46d43\", \"#fdae61\", \"#fee08b\", \"#ffffbf\", \"#e6f598\", \"#abdda4\", \"#66c2a5\", \"#3288bd\", \"#5e4fa2\"], \"type\": \"ordinal\"}], \"width\": 960}, function(chart) {\n",
        "         chart({el: \"#viscf86bea36453463886c60442e3fb1ef7\"}).update();\n",
        "       });\n",
        "     };\n",
        "     _do_plot();\n",
        "   })();\n",
        "</script>\n",
        "<style>.vega canvas {width: 100%;}</style>\n",
        "        "
       ],
       "metadata": {},
       "output_type": "display_data",
       "text": [
        "<IPython.core.display.HTML at 0x10e27f610>"
       ]
      }
     ],
     "prompt_number": 50
    },
    {
     "cell_type": "code",
     "collapsed": false,
     "input": [
      "import vincent\n",
      "vincent.core.initialize_notebook()\n",
      "area = vincent.StackedArea(rockies_per_min)\n",
      "area.colors(brew='Set2')\n",
      "area.display()"
     ],
     "language": "python",
     "metadata": {},
     "outputs": [
      {
       "html": [
        "\n",
        "           <script>\n",
        "               \n",
        "                function vct_load_lib(url, callback){\n",
        "                      if(typeof d3 !== 'undefined' &&\n",
        "                         url === 'http://d3js.org/d3.v3.min.js'){\n",
        "                        callback()\n",
        "                      }\n",
        "                      var s = document.createElement('script');\n",
        "                      s.src = url;\n",
        "                      s.async = true;\n",
        "                      s.onreadystatechange = s.onload = callback;\n",
        "                      s.onerror = function(){\n",
        "                        console.warn(\"failed to load library \" + url);\n",
        "                        };\n",
        "                      document.getElementsByTagName(\"head\")[0].appendChild(s);\n",
        "                };\n",
        "                var vincent_event = new CustomEvent(\n",
        "                  \"vincent_libs_loaded\",\n",
        "                  {bubbles: true, cancelable: true}\n",
        "                );\n",
        "                \n",
        "               function load_all_libs(){\n",
        "                  console.log('Loading Vincent libs...')\n",
        "                  vct_load_lib('http://d3js.org/d3.v3.min.js', function(){\n",
        "                  vct_load_lib('http://d3js.org/d3.geo.projection.v0.min.js', function(){\n",
        "                  vct_load_lib('http://wrobstory.github.io/d3-cloud/d3.layout.cloud.js', function(){\n",
        "                  vct_load_lib('http://wrobstory.github.io/vega/vega.v1.3.3.js', function(){\n",
        "                  window.dispatchEvent(vincent_event);\n",
        "                  });\n",
        "                  });\n",
        "                  });\n",
        "                  });\n",
        "               };\n",
        "               if(typeof define === \"function\" && define.amd){\n",
        "                    if (window['d3'] === undefined ||\n",
        "                        window['topojson'] === undefined){\n",
        "                        require.config(\n",
        "                            {paths: {\n",
        "                              d3: 'http://d3js.org/d3.v3.min',\n",
        "                              topojson: 'http://d3js.org/topojson.v1.min'\n",
        "                              }\n",
        "                            }\n",
        "                          );\n",
        "                        require([\"d3\"], function(d3){\n",
        "                            console.log('Loading Vincent from require.js...')\n",
        "                            window.d3 = d3;\n",
        "                            require([\"topojson\"], function(topojson){\n",
        "                                window.topojson = topojson;\n",
        "                                load_all_libs();\n",
        "                            });\n",
        "                        });\n",
        "                    } else {\n",
        "                        load_all_libs();\n",
        "                    };\n",
        "               }else{\n",
        "                    console.log('Require.js not found, loading manually...')\n",
        "                    load_all_libs();\n",
        "               };\n",
        "\n",
        "           </script>"
       ],
       "metadata": {},
       "output_type": "display_data",
       "text": [
        "<IPython.core.display.HTML at 0x109530fd0>"
       ]
      },
      {
       "html": [
        "<div id=\"vis8c7e1b8db90a43c39e66b8dced16a9f3\"></div>\n",
        "<script>\n",
        "   ( function() {\n",
        "     var _do_plot = function() {\n",
        "       if (typeof vg === 'undefined') {\n",
        "         window.addEventListener('vincent_libs_loaded', _do_plot)\n",
        "         return;\n",
        "       }\n",
        "       vg.parse.spec({\"axes\": [{\"scale\": \"x\", \"type\": \"x\"}, {\"scale\": \"y\", \"type\": \"y\"}], \"data\": [{\"name\": \"table\", \"values\": [{\"col\": \"created_at\", \"idx\": 1433265120000, \"val\": 2}, {\"col\": \"created_at\", \"idx\": 1433265180000, \"val\": 17}, {\"col\": \"created_at\", \"idx\": 1433265240000, \"val\": 8}, {\"col\": \"created_at\", \"idx\": 1433265300000, \"val\": 9}, {\"col\": \"created_at\", \"idx\": 1433265360000, \"val\": 4}, {\"col\": \"created_at\", \"idx\": 1433265420000, \"val\": 8}, {\"col\": \"created_at\", \"idx\": 1433265480000, \"val\": 7}, {\"col\": \"created_at\", \"idx\": 1433265540000, \"val\": 7}, {\"col\": \"created_at\", \"idx\": 1433265600000, \"val\": 5}, {\"col\": \"created_at\", \"idx\": 1433265660000, \"val\": 9}, {\"col\": \"created_at\", \"idx\": 1433265720000, \"val\": 4}, {\"col\": \"created_at\", \"idx\": 1433265780000, \"val\": 5}, {\"col\": \"created_at\", \"idx\": 1433265840000, \"val\": 3}, {\"col\": \"created_at\", \"idx\": 1433265900000, \"val\": 7}, {\"col\": \"created_at\", \"idx\": 1433265960000, \"val\": 6}, {\"col\": \"created_at\", \"idx\": 1433266020000, \"val\": 20}, {\"col\": \"created_at\", \"idx\": 1433266080000, \"val\": 38}, {\"col\": \"created_at\", \"idx\": 1433266140000, \"val\": 8}, {\"col\": \"created_at\", \"idx\": 1433266200000, \"val\": 13}, {\"col\": \"created_at\", \"idx\": 1433266260000, \"val\": 6}, {\"col\": \"created_at\", \"idx\": 1433266320000, \"val\": 10}, {\"col\": \"created_at\", \"idx\": 1433266380000, \"val\": 6}, {\"col\": \"created_at\", \"idx\": 1433266440000, \"val\": 11}, {\"col\": \"created_at\", \"idx\": 1433266500000, \"val\": 9}, {\"col\": \"created_at\", \"idx\": 1433266560000, \"val\": 4}, {\"col\": \"created_at\", \"idx\": 1433266620000, \"val\": 15}, {\"col\": \"created_at\", \"idx\": 1433266680000, \"val\": 15}, {\"col\": \"created_at\", \"idx\": 1433266740000, \"val\": 10}, {\"col\": \"created_at\", \"idx\": 1433266800000, \"val\": 12}, {\"col\": \"created_at\", \"idx\": 1433266860000, \"val\": 7}, {\"col\": \"created_at\", \"idx\": 1433266920000, \"val\": 5}, {\"col\": \"created_at\", \"idx\": 1433266980000, \"val\": 11}, {\"col\": \"created_at\", \"idx\": 1433267040000, \"val\": 15}, {\"col\": \"created_at\", \"idx\": 1433267100000, \"val\": 14}, {\"col\": \"created_at\", \"idx\": 1433267160000, \"val\": 10}, {\"col\": \"created_at\", \"idx\": 1433267220000, \"val\": 12}, {\"col\": \"created_at\", \"idx\": 1433267280000, \"val\": 11}, {\"col\": \"created_at\", \"idx\": 1433267340000, \"val\": 7}, {\"col\": \"created_at\", \"idx\": 1433267400000, \"val\": 5}, {\"col\": \"created_at\", \"idx\": 1433267460000, \"val\": 6}, {\"col\": \"created_at\", \"idx\": 1433267520000, \"val\": 4}, {\"col\": \"created_at\", \"idx\": 1433267580000, \"val\": 6}, {\"col\": \"created_at\", \"idx\": 1433267640000, \"val\": 7}, {\"col\": \"created_at\", \"idx\": 1433267700000, \"val\": 9}, {\"col\": \"created_at\", \"idx\": 1433267760000, \"val\": 4}, {\"col\": \"created_at\", \"idx\": 1433267820000, \"val\": 2}, {\"col\": \"created_at\", \"idx\": 1433267880000, \"val\": 16}, {\"col\": \"created_at\", \"idx\": 1433267940000, \"val\": 7}, {\"col\": \"created_at\", \"idx\": 1433268000000, \"val\": 5}, {\"col\": \"created_at\", \"idx\": 1433268060000, \"val\": 11}, {\"col\": \"created_at\", \"idx\": 1433268120000, \"val\": 8}, {\"col\": \"created_at\", \"idx\": 1433268180000, \"val\": 8}, {\"col\": \"created_at\", \"idx\": 1433268240000, \"val\": 5}, {\"col\": \"created_at\", \"idx\": 1433268300000, \"val\": 5}, {\"col\": \"created_at\", \"idx\": 1433268360000, \"val\": 4}, {\"col\": \"created_at\", \"idx\": 1433268420000, \"val\": 2}, {\"col\": \"created_at\", \"idx\": 1433268480000, \"val\": 5}, {\"col\": \"created_at\", \"idx\": 1433268540000, \"val\": 7}, {\"col\": \"created_at\", \"idx\": 1433268600000, \"val\": 36}, {\"col\": \"created_at\", \"idx\": 1433268660000, \"val\": 6}, {\"col\": \"created_at\", \"idx\": 1433268720000, \"val\": 6}, {\"col\": \"created_at\", \"idx\": 1433268780000, \"val\": 8}, {\"col\": \"created_at\", \"idx\": 1433268840000, \"val\": 12}, {\"col\": \"created_at\", \"idx\": 1433268900000, \"val\": 16}, {\"col\": \"created_at\", \"idx\": 1433268960000, \"val\": 10}, {\"col\": \"created_at\", \"idx\": 1433269020000, \"val\": 18}, {\"col\": \"created_at\", \"idx\": 1433269080000, \"val\": 8}, {\"col\": \"created_at\", \"idx\": 1433269140000, \"val\": 10}, {\"col\": \"created_at\", \"idx\": 1433269200000, \"val\": 15}, {\"col\": \"created_at\", \"idx\": 1433269260000, \"val\": 13}, {\"col\": \"created_at\", \"idx\": 1433269320000, \"val\": 19}, {\"col\": \"created_at\", \"idx\": 1433269380000, \"val\": 12}, {\"col\": \"created_at\", \"idx\": 1433269440000, \"val\": 11}, {\"col\": \"created_at\", \"idx\": 1433269500000, \"val\": 11}, {\"col\": \"created_at\", \"idx\": 1433269560000, \"val\": 7}, {\"col\": \"created_at\", \"idx\": 1433269620000, \"val\": 4}, {\"col\": \"created_at\", \"idx\": 1433269680000, \"val\": 9}, {\"col\": \"created_at\", \"idx\": 1433269740000, \"val\": 5}, {\"col\": \"created_at\", \"idx\": 1433269800000, \"val\": 14}, {\"col\": \"created_at\", \"idx\": 1433269860000, \"val\": 11}, {\"col\": \"created_at\", \"idx\": 1433269920000, \"val\": 18}, {\"col\": \"created_at\", \"idx\": 1433269980000, \"val\": 23}, {\"col\": \"created_at\", \"idx\": 1433270040000, \"val\": 18}, {\"col\": \"created_at\", \"idx\": 1433270100000, \"val\": 17}, {\"col\": \"created_at\", \"idx\": 1433270160000, \"val\": 5}, {\"col\": \"created_at\", \"idx\": 1433270220000, \"val\": 11}, {\"col\": \"created_at\", \"idx\": 1433270280000, \"val\": 8}, {\"col\": \"created_at\", \"idx\": 1433270340000, \"val\": 10}, {\"col\": \"created_at\", \"idx\": 1433270400000, \"val\": 18}, {\"col\": \"created_at\", \"idx\": 1433270460000, \"val\": 6}, {\"col\": \"created_at\", \"idx\": 1433270520000, \"val\": 7}, {\"col\": \"created_at\", \"idx\": 1433270580000, \"val\": 47}, {\"col\": \"created_at\", \"idx\": 1433270640000, \"val\": 29}, {\"col\": \"created_at\", \"idx\": 1433270700000, \"val\": 22}, {\"col\": \"created_at\", \"idx\": 1433270760000, \"val\": 11}, {\"col\": \"created_at\", \"idx\": 1433270820000, \"val\": 12}, {\"col\": \"created_at\", \"idx\": 1433270880000, \"val\": 10}, {\"col\": \"created_at\", \"idx\": 1433270940000, \"val\": 32}, {\"col\": \"created_at\", \"idx\": 1433271000000, \"val\": 18}, {\"col\": \"created_at\", \"idx\": 1433271060000, \"val\": 16}, {\"col\": \"created_at\", \"idx\": 1433271120000, \"val\": 10}, {\"col\": \"created_at\", \"idx\": 1433271180000, \"val\": 22}, {\"col\": \"created_at\", \"idx\": 1433271240000, \"val\": 23}, {\"col\": \"created_at\", \"idx\": 1433271300000, \"val\": 20}, {\"col\": \"created_at\", \"idx\": 1433271360000, \"val\": 9}, {\"col\": \"created_at\", \"idx\": 1433271420000, \"val\": 10}, {\"col\": \"created_at\", \"idx\": 1433271480000, \"val\": 20}, {\"col\": \"created_at\", \"idx\": 1433271540000, \"val\": 12}, {\"col\": \"created_at\", \"idx\": 1433271600000, \"val\": 15}, {\"col\": \"created_at\", \"idx\": 1433271660000, \"val\": 7}, {\"col\": \"created_at\", \"idx\": 1433271720000, \"val\": 12}, {\"col\": \"created_at\", \"idx\": 1433271780000, \"val\": 12}, {\"col\": \"created_at\", \"idx\": 1433271840000, \"val\": 11}, {\"col\": \"created_at\", \"idx\": 1433271900000, \"val\": 10}, {\"col\": \"created_at\", \"idx\": 1433271960000, \"val\": 14}, {\"col\": \"created_at\", \"idx\": 1433272020000, \"val\": 14}, {\"col\": \"created_at\", \"idx\": 1433272080000, \"val\": 4}, {\"col\": \"created_at\", \"idx\": 1433272140000, \"val\": 6}, {\"col\": \"created_at\", \"idx\": 1433272200000, \"val\": 5}, {\"col\": \"created_at\", \"idx\": 1433272260000, \"val\": 8}, {\"col\": \"created_at\", \"idx\": 1433272320000, \"val\": 13}, {\"col\": \"created_at\", \"idx\": 1433272380000, \"val\": 24}, {\"col\": \"created_at\", \"idx\": 1433272440000, \"val\": 23}, {\"col\": \"created_at\", \"idx\": 1433272500000, \"val\": 7}, {\"col\": \"created_at\", \"idx\": 1433272560000, \"val\": 10}, {\"col\": \"created_at\", \"idx\": 1433272620000, \"val\": 8}, {\"col\": \"created_at\", \"idx\": 1433272680000, \"val\": 6}, {\"col\": \"created_at\", \"idx\": 1433272740000, \"val\": 9}, {\"col\": \"created_at\", \"idx\": 1433272800000, \"val\": 26}, {\"col\": \"created_at\", \"idx\": 1433272860000, \"val\": 40}, {\"col\": \"created_at\", \"idx\": 1433272920000, \"val\": 42}, {\"col\": \"created_at\", \"idx\": 1433272980000, \"val\": 52}, {\"col\": \"created_at\", \"idx\": 1433273040000, \"val\": 42}, {\"col\": \"created_at\", \"idx\": 1433273100000, \"val\": 59}, {\"col\": \"created_at\", \"idx\": 1433273160000, \"val\": 88}, {\"col\": \"created_at\", \"idx\": 1433273220000, \"val\": 79}, {\"col\": \"created_at\", \"idx\": 1433273280000, \"val\": 60}, {\"col\": \"created_at\", \"idx\": 1433273340000, \"val\": 40}, {\"col\": \"created_at\", \"idx\": 1433273400000, \"val\": 61}, {\"col\": \"created_at\", \"idx\": 1433273460000, \"val\": 98}, {\"col\": \"created_at\", \"idx\": 1433273520000, \"val\": 101}, {\"col\": \"created_at\", \"idx\": 1433273580000, \"val\": 87}, {\"col\": \"created_at\", \"idx\": 1433273640000, \"val\": 80}, {\"col\": \"created_at\", \"idx\": 1433273700000, \"val\": 72}, {\"col\": \"created_at\", \"idx\": 1433273760000, \"val\": 109}, {\"col\": \"created_at\", \"idx\": 1433273820000, \"val\": 76}, {\"col\": \"created_at\", \"idx\": 1433273880000, \"val\": 36}, {\"col\": \"created_at\", \"idx\": 1433273940000, \"val\": 39}, {\"col\": \"created_at\", \"idx\": 1433274000000, \"val\": 47}, {\"col\": \"created_at\", \"idx\": 1433274060000, \"val\": 60}, {\"col\": \"created_at\", \"idx\": 1433274120000, \"val\": 59}, {\"col\": \"created_at\", \"idx\": 1433274180000, \"val\": 46}, {\"col\": \"created_at\", \"idx\": 1433274240000, \"val\": 36}, {\"col\": \"created_at\", \"idx\": 1433274300000, \"val\": 31}, {\"col\": \"created_at\", \"idx\": 1433274360000, \"val\": 39}, {\"col\": \"created_at\", \"idx\": 1433274420000, \"val\": 31}, {\"col\": \"created_at\", \"idx\": 1433274480000, \"val\": 25}, {\"col\": \"created_at\", \"idx\": 1433274540000, \"val\": 37}, {\"col\": \"created_at\", \"idx\": 1433274600000, \"val\": 33}, {\"col\": \"created_at\", \"idx\": 1433274660000, \"val\": 37}, {\"col\": \"created_at\", \"idx\": 1433274720000, \"val\": 63}, {\"col\": \"created_at\", \"idx\": 1433274780000, \"val\": 99}, {\"col\": \"created_at\", \"idx\": 1433274840000, \"val\": 78}, {\"col\": \"created_at\", \"idx\": 1433274900000, \"val\": 83}, {\"col\": \"created_at\", \"idx\": 1433274960000, \"val\": 54}, {\"col\": \"created_at\", \"idx\": 1433275020000, \"val\": 32}, {\"col\": \"created_at\", \"idx\": 1433275080000, \"val\": 37}, {\"col\": \"created_at\", \"idx\": 1433275140000, \"val\": 22}, {\"col\": \"created_at\", \"idx\": 1433275200000, \"val\": 24}, {\"col\": \"created_at\", \"idx\": 1433275260000, \"val\": 20}, {\"col\": \"created_at\", \"idx\": 1433275320000, \"val\": 14}, {\"col\": \"created_at\", \"idx\": 1433275380000, \"val\": 28}, {\"col\": \"created_at\", \"idx\": 1433275440000, \"val\": 27}, {\"col\": \"created_at\", \"idx\": 1433275500000, \"val\": 24}, {\"col\": \"created_at\", \"idx\": 1433275560000, \"val\": 19}, {\"col\": \"created_at\", \"idx\": 1433275620000, \"val\": 42}, {\"col\": \"created_at\", \"idx\": 1433275680000, \"val\": 32}, {\"col\": \"created_at\", \"idx\": 1433275740000, \"val\": 26}, {\"col\": \"created_at\", \"idx\": 1433275800000, \"val\": 35}, {\"col\": \"created_at\", \"idx\": 1433275860000, \"val\": 18}, {\"col\": \"created_at\", \"idx\": 1433275920000, \"val\": 19}, {\"col\": \"created_at\", \"idx\": 1433275980000, \"val\": 23}, {\"col\": \"created_at\", \"idx\": 1433276040000, \"val\": 19}, {\"col\": \"created_at\", \"idx\": 1433276100000, \"val\": 25}, {\"col\": \"created_at\", \"idx\": 1433276160000, \"val\": 25}, {\"col\": \"created_at\", \"idx\": 1433276220000, \"val\": 28}, {\"col\": \"created_at\", \"idx\": 1433276280000, \"val\": 10}]}, {\"name\": \"stats\", \"source\": \"table\", \"transform\": [{\"keys\": [\"data.idx\"], \"type\": \"facet\"}, {\"type\": \"stats\", \"value\": \"data.val\"}]}], \"height\": 500, \"legends\": [], \"marks\": [{\"from\": {\"data\": \"table\", \"transform\": [{\"keys\": [\"data.col\"], \"type\": \"facet\"}, {\"height\": \"data.val\", \"point\": \"data.idx\", \"type\": \"stack\"}]}, \"marks\": [{\"properties\": {\"enter\": {\"fill\": {\"field\": \"data.col\", \"scale\": \"color\"}, \"interpolate\": {\"value\": \"monotone\"}, \"x\": {\"field\": \"data.idx\", \"scale\": \"x\"}, \"y\": {\"field\": \"y\", \"scale\": \"y\"}, \"y2\": {\"field\": \"y2\", \"scale\": \"y\"}}}, \"type\": \"area\"}], \"type\": \"group\"}], \"padding\": \"auto\", \"scales\": [{\"domain\": {\"data\": \"table\", \"field\": \"data.idx\"}, \"name\": \"x\", \"range\": \"width\", \"type\": \"time\", \"zero\": false}, {\"domain\": {\"data\": \"stats\", \"field\": \"sum\"}, \"name\": \"y\", \"nice\": true, \"range\": \"height\"}, {\"domain\": {\"data\": \"table\", \"field\": \"data.col\"}, \"name\": \"color\", \"range\": [\"#66c2a5\", \"#fc8d62\", \"#8da0cb\", \"#e78ac3\", \"#a6d854\", \"#ffd92f\", \"#e5c494\", \"#b3b3b3\"], \"type\": \"ordinal\"}], \"width\": 960}, function(chart) {\n",
        "         chart({el: \"#vis8c7e1b8db90a43c39e66b8dced16a9f3\"}).update();\n",
        "       });\n",
        "     };\n",
        "     _do_plot();\n",
        "   })();\n",
        "</script>\n",
        "<style>.vega canvas {width: 100%;}</style>\n",
        "        "
       ],
       "metadata": {},
       "output_type": "display_data",
       "text": [
        "<IPython.core.display.HTML at 0x109586d50>"
       ]
      }
     ],
     "prompt_number": 62
    },
    {
     "cell_type": "code",
     "collapsed": false,
     "input": [],
     "language": "python",
     "metadata": {},
     "outputs": [
      {
       "ename": "ImportError",
       "evalue": "No module named basemap",
       "output_type": "pyerr",
       "traceback": [
        "\u001b[0;31m---------------------------------------------------------------------------\u001b[0m\n\u001b[0;31mImportError\u001b[0m                               Traceback (most recent call last)",
        "\u001b[0;32m<ipython-input-64-a9e1ddb419ec>\u001b[0m in \u001b[0;36m<module>\u001b[0;34m()\u001b[0m\n\u001b[1;32m      1\u001b[0m \u001b[0;32mimport\u001b[0m \u001b[0mmatplotlib\u001b[0m\u001b[0;34m.\u001b[0m\u001b[0mpyplot\u001b[0m \u001b[0;32mas\u001b[0m \u001b[0mplt\u001b[0m\u001b[0;34m\u001b[0m\u001b[0m\n\u001b[1;32m      2\u001b[0m \u001b[0;34m\u001b[0m\u001b[0m\n\u001b[0;32m----> 3\u001b[0;31m \u001b[0;32mfrom\u001b[0m \u001b[0mmpl_toolkits\u001b[0m\u001b[0;34m.\u001b[0m\u001b[0mbasemap\u001b[0m \u001b[0;32mimport\u001b[0m \u001b[0mBasemap\u001b[0m\u001b[0;34m\u001b[0m\u001b[0m\n\u001b[0m\u001b[1;32m      4\u001b[0m \u001b[0;34m\u001b[0m\u001b[0m\n\u001b[1;32m      5\u001b[0m \u001b[0;31m# Note that we're drawing on a regular matplotlib figure, so we set the\u001b[0m\u001b[0;34m\u001b[0m\u001b[0;34m\u001b[0m\u001b[0m\n",
        "\u001b[0;31mImportError\u001b[0m: No module named basemap"
       ]
      }
     ],
     "prompt_number": 64
    },
    {
     "cell_type": "code",
     "collapsed": false,
     "input": [],
     "language": "python",
     "metadata": {},
     "outputs": []
    }
   ],
   "metadata": {}
  }
 ]
}