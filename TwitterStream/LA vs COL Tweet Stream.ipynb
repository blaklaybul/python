{
 "metadata": {
  "name": "",
  "signature": "sha256:0b099a3cea142aef8ecfffc9cf487f8d4c41f1ff5f48dbac61be0b49948e0c3f"
 },
 "nbformat": 3,
 "nbformat_minor": 0,
 "worksheets": [
  {
   "cells": [
    {
     "cell_type": "heading",
     "level": 1,
     "metadata": {},
     "source": [
      "Twitter Stream with Tweepy"
     ]
    },
    {
     "cell_type": "markdown",
     "metadata": {},
     "source": [
      "Using tweepy, we track tweets during the LA Dodgers and Colorado Rockies game on Wednesday. I thought this would be an interested game to track since Zach Greinke was starting for the Dodgers and Joc Pederson has been on a powerful home run hitting streak.\n",
      "\n",
      "Authorization is set up using keys and access tokens provided by twitter. Tweepy's built in OAuthHandler sets up a connection with Twitter's API, and we create a StreamListener that catches all tweets filtered to our liking. For the sake of space, I put only the files that trackers all occurrences of the word 'dodgers' - the same code work for the Rockies tracker as well.\n",
      "\n",
      "Using pymongo, we make a connection to the local MongoDB, and insert tweets documents as they come in. I started the stream about 30 minutes before the game and took a snapshot of the data in the 9th inning. The results are analyzed below."
     ]
    },
    {
     "cell_type": "code",
     "collapsed": false,
     "input": [
      "import tweepy\n",
      "import sys\n",
      "import pymongo\n",
      "\n",
      "#keys are hidden from this code\n",
      "ckey = ''\n",
      "csec = ''\n",
      "atok = ''\n",
      "asec = ''\n",
      "\n",
      "auth = tweepy.OAuthHandler(ckey, csec)\n",
      "auth.set_access_token(atok, asec)\n",
      "api = tweepy.API(auth)\n",
      "\n",
      "class CustomStreamListener(tweepy.StreamListener):\n",
      "    def __init__(self, api):\n",
      "        self.api = api\n",
      "        super(tweepy.StreamListener, self).__init__()\n",
      "\n",
      "        self.db = pymongo.MongoClient().Dodgers\n",
      "\n",
      "    def on_status(self, status):\n",
      "        \n",
      "        # uncomment to print tweets as they come in\n",
      "        # print status.text , \"\\n\"\n",
      "\n",
      "        data ={}\n",
      "        data['text'] = status.text\n",
      "        data['created_at'] = status.created_at\n",
      "        data['geo'] = status.geo\n",
      "        data['source'] = status.source\n",
      "\n",
      "        self.db.Tweets.insert(data)\n",
      "\n",
      "    def on_error(self, status_code):\n",
      "        print >> sys.stderr, 'Encountered error with status code:', status_code\n",
      "        return True # Don't kill the stream\n",
      "\n",
      "    def on_timeout(self):\n",
      "        print >> sys.stderr, 'Timeout...'\n",
      "        return True # Don't kill the stream\n",
      "\n",
      "sapi = tweepy.streaming.Stream(auth, CustomStreamListener(api))\n",
      "sapi.filter(track=['dodgers'])"
     ],
     "language": "python",
     "metadata": {},
     "outputs": []
    },
    {
     "cell_type": "heading",
     "level": 1,
     "metadata": {},
     "source": [
      "Analysis"
     ]
    },
    {
     "cell_type": "markdown",
     "metadata": {},
     "source": [
      "I exported a copy of our Mongo collection using the following snippet:"
     ]
    },
    {
     "cell_type": "code",
     "collapsed": false,
     "input": [
      "mongoexport -d Dodgers -c Tweets --type=csv --fields _id,text,created_at,geo,source -o Dodgers.csv"
     ],
     "language": "python",
     "metadata": {},
     "outputs": []
    },
    {
     "cell_type": "markdown",
     "metadata": {},
     "source": [
      "Using pandas, we correctly set the time, and created a new DataFrame that aggregates the tweets on a per minute basis. This allows us to identify pivotal points in the game."
     ]
    },
    {
     "cell_type": "code",
     "collapsed": false,
     "input": [
      "import pandas as pd\n",
      "from pandas.tseries.resample import TimeGrouper\n",
      "from pandas.tseries.offsets import DateOffset\n",
      "\n",
      "dodgers = pd.read_csv('/Users/Michael/Repos/python/TwitterStream/Dodgers.csv')\n",
      "dodgers['created_at'] = pd.to_datetime(pd.Series(dodgers['created_at']))\n",
      "dodgers.set_index('created_at', drop=False, inplace=True)\n",
      "dodgers.index = dodgers.index.tz_localize('GMT').tz_convert('EST')\n",
      "dodgers.index = dodgers.index - DateOffset(hours = 5)\n",
      "\n",
      "rockies = pd.read_csv('/Users/Michael/Repos/python/TwitterStream/Rockies.csv')\n",
      "rockies['created_at'] = pd.to_datetime(pd.Series(rockies['created_at']))\n",
      "rockies.set_index('created_at', drop=False, inplace=True)\n",
      "rockies.index = rockies.index.tz_localize('GMT').tz_convert('EST')\n",
      "rockies.index = rockies.index - DateOffset(hours = 5)\n",
      "\n",
      "dodgers_per_min = dodgers['created_at'].resample('1t', how='count')\n",
      "rockies_per_min = rockies['created_at'].resample('1t', how='count')"
     ],
     "language": "python",
     "metadata": {},
     "outputs": [],
     "prompt_number": 85
    },
    {
     "cell_type": "code",
     "collapsed": false,
     "input": [
      "import vincent\n",
      "vincent.core.initialize_notebook()\n",
      "area = vincent.StackedArea(dodgers_per_min)\n",
      "area.colors(brew='Spectral')\n",
      "area.axis_titles(x = \"time\", y='Tweets per Minute')\n",
      "area.display()"
     ],
     "language": "python",
     "metadata": {},
     "outputs": [
      {
       "html": [
        "\n",
        "           <script>\n",
        "               \n",
        "                function vct_load_lib(url, callback){\n",
        "                      if(typeof d3 !== 'undefined' &&\n",
        "                         url === 'http://d3js.org/d3.v3.min.js'){\n",
        "                        callback()\n",
        "                      }\n",
        "                      var s = document.createElement('script');\n",
        "                      s.src = url;\n",
        "                      s.async = true;\n",
        "                      s.onreadystatechange = s.onload = callback;\n",
        "                      s.onerror = function(){\n",
        "                        console.warn(\"failed to load library \" + url);\n",
        "                        };\n",
        "                      document.getElementsByTagName(\"head\")[0].appendChild(s);\n",
        "                };\n",
        "                var vincent_event = new CustomEvent(\n",
        "                  \"vincent_libs_loaded\",\n",
        "                  {bubbles: true, cancelable: true}\n",
        "                );\n",
        "                \n",
        "               function load_all_libs(){\n",
        "                  console.log('Loading Vincent libs...')\n",
        "                  vct_load_lib('http://d3js.org/d3.v3.min.js', function(){\n",
        "                  vct_load_lib('http://d3js.org/d3.geo.projection.v0.min.js', function(){\n",
        "                  vct_load_lib('http://wrobstory.github.io/d3-cloud/d3.layout.cloud.js', function(){\n",
        "                  vct_load_lib('http://wrobstory.github.io/vega/vega.v1.3.3.js', function(){\n",
        "                  window.dispatchEvent(vincent_event);\n",
        "                  });\n",
        "                  });\n",
        "                  });\n",
        "                  });\n",
        "               };\n",
        "               if(typeof define === \"function\" && define.amd){\n",
        "                    if (window['d3'] === undefined ||\n",
        "                        window['topojson'] === undefined){\n",
        "                        require.config(\n",
        "                            {paths: {\n",
        "                              d3: 'http://d3js.org/d3.v3.min',\n",
        "                              topojson: 'http://d3js.org/topojson.v1.min'\n",
        "                              }\n",
        "                            }\n",
        "                          );\n",
        "                        require([\"d3\"], function(d3){\n",
        "                            console.log('Loading Vincent from require.js...')\n",
        "                            window.d3 = d3;\n",
        "                            require([\"topojson\"], function(topojson){\n",
        "                                window.topojson = topojson;\n",
        "                                load_all_libs();\n",
        "                            });\n",
        "                        });\n",
        "                    } else {\n",
        "                        load_all_libs();\n",
        "                    };\n",
        "               }else{\n",
        "                    console.log('Require.js not found, loading manually...')\n",
        "                    load_all_libs();\n",
        "               };\n",
        "\n",
        "           </script>"
       ],
       "metadata": {},
       "output_type": "display_data",
       "text": [
        "<IPython.core.display.HTML at 0x109cfb690>"
       ]
      },
      {
       "html": [
        "<div id=\"vis3ce901eadd0d496b9a67b63dee5e0250\"></div>\n",
        "<script>\n",
        "   ( function() {\n",
        "     var _do_plot = function() {\n",
        "       if (typeof vg === 'undefined') {\n",
        "         window.addEventListener('vincent_libs_loaded', _do_plot)\n",
        "         return;\n",
        "       }\n",
        "       vg.parse.spec({\"axes\": [{\"scale\": \"x\", \"title\": \"time\", \"type\": \"x\"}, {\"scale\": \"y\", \"title\": \"Tweets per Minute\", \"type\": \"y\"}], \"data\": [{\"name\": \"table\", \"values\": [{\"col\": \"created_at\", \"idx\": 1433290320000, \"val\": 7}, {\"col\": \"created_at\", \"idx\": 1433290380000, \"val\": 20}, {\"col\": \"created_at\", \"idx\": 1433290440000, \"val\": 8}, {\"col\": \"created_at\", \"idx\": 1433290500000, \"val\": 11}, {\"col\": \"created_at\", \"idx\": 1433290560000, \"val\": 9}, {\"col\": \"created_at\", \"idx\": 1433290620000, \"val\": 18}, {\"col\": \"created_at\", \"idx\": 1433290680000, \"val\": 11}, {\"col\": \"created_at\", \"idx\": 1433290740000, \"val\": 15}, {\"col\": \"created_at\", \"idx\": 1433290800000, \"val\": 7}, {\"col\": \"created_at\", \"idx\": 1433290860000, \"val\": 19}, {\"col\": \"created_at\", \"idx\": 1433290920000, \"val\": 15}, {\"col\": \"created_at\", \"idx\": 1433290980000, \"val\": 7}, {\"col\": \"created_at\", \"idx\": 1433291040000, \"val\": 8}, {\"col\": \"created_at\", \"idx\": 1433291100000, \"val\": 10}, {\"col\": \"created_at\", \"idx\": 1433291160000, \"val\": 7}, {\"col\": \"created_at\", \"idx\": 1433291220000, \"val\": 8}, {\"col\": \"created_at\", \"idx\": 1433291280000, \"val\": 39}, {\"col\": \"created_at\", \"idx\": 1433291340000, \"val\": 7}, {\"col\": \"created_at\", \"idx\": 1433291400000, \"val\": 24}, {\"col\": \"created_at\", \"idx\": 1433291460000, \"val\": 24}, {\"col\": \"created_at\", \"idx\": 1433291520000, \"val\": 19}, {\"col\": \"created_at\", \"idx\": 1433291580000, \"val\": 10}, {\"col\": \"created_at\", \"idx\": 1433291640000, \"val\": 15}, {\"col\": \"created_at\", \"idx\": 1433291700000, \"val\": 9}, {\"col\": \"created_at\", \"idx\": 1433291760000, \"val\": 13}, {\"col\": \"created_at\", \"idx\": 1433291820000, \"val\": 15}, {\"col\": \"created_at\", \"idx\": 1433291880000, \"val\": 21}, {\"col\": \"created_at\", \"idx\": 1433291940000, \"val\": 81}, {\"col\": \"created_at\", \"idx\": 1433292000000, \"val\": 59}, {\"col\": \"created_at\", \"idx\": 1433292060000, \"val\": 59}, {\"col\": \"created_at\", \"idx\": 1433292120000, \"val\": 43}, {\"col\": \"created_at\", \"idx\": 1433292180000, \"val\": 115}, {\"col\": \"created_at\", \"idx\": 1433292240000, \"val\": 76}, {\"col\": \"created_at\", \"idx\": 1433292300000, \"val\": 58}, {\"col\": \"created_at\", \"idx\": 1433292360000, \"val\": 43}, {\"col\": \"created_at\", \"idx\": 1433292420000, \"val\": 47}, {\"col\": \"created_at\", \"idx\": 1433292480000, \"val\": 37}, {\"col\": \"created_at\", \"idx\": 1433292540000, \"val\": 22}, {\"col\": \"created_at\", \"idx\": 1433292600000, \"val\": 43}, {\"col\": \"created_at\", \"idx\": 1433292660000, \"val\": 16}, {\"col\": \"created_at\", \"idx\": 1433292720000, \"val\": 24}, {\"col\": \"created_at\", \"idx\": 1433292780000, \"val\": 44}, {\"col\": \"created_at\", \"idx\": 1433292840000, \"val\": 26}, {\"col\": \"created_at\", \"idx\": 1433292900000, \"val\": 28}, {\"col\": \"created_at\", \"idx\": 1433292960000, \"val\": 21}, {\"col\": \"created_at\", \"idx\": 1433293020000, \"val\": 15}, {\"col\": \"created_at\", \"idx\": 1433293080000, \"val\": 30}, {\"col\": \"created_at\", \"idx\": 1433293140000, \"val\": 43}, {\"col\": \"created_at\", \"idx\": 1433293200000, \"val\": 93}, {\"col\": \"created_at\", \"idx\": 1433293260000, \"val\": 65}, {\"col\": \"created_at\", \"idx\": 1433293320000, \"val\": 47}, {\"col\": \"created_at\", \"idx\": 1433293380000, \"val\": 44}, {\"col\": \"created_at\", \"idx\": 1433293440000, \"val\": 21}, {\"col\": \"created_at\", \"idx\": 1433293500000, \"val\": 31}, {\"col\": \"created_at\", \"idx\": 1433293560000, \"val\": 16}, {\"col\": \"created_at\", \"idx\": 1433293620000, \"val\": 34}, {\"col\": \"created_at\", \"idx\": 1433293680000, \"val\": 34}, {\"col\": \"created_at\", \"idx\": 1433293740000, \"val\": 31}, {\"col\": \"created_at\", \"idx\": 1433293800000, \"val\": 62}, {\"col\": \"created_at\", \"idx\": 1433293860000, \"val\": 38}, {\"col\": \"created_at\", \"idx\": 1433293920000, \"val\": 26}, {\"col\": \"created_at\", \"idx\": 1433293980000, \"val\": 26}, {\"col\": \"created_at\", \"idx\": 1433294040000, \"val\": 28}, {\"col\": \"created_at\", \"idx\": 1433294100000, \"val\": 273}, {\"col\": \"created_at\", \"idx\": 1433294160000, \"val\": 166}, {\"col\": \"created_at\", \"idx\": 1433294220000, \"val\": 134}, {\"col\": \"created_at\", \"idx\": 1433294280000, \"val\": 99}, {\"col\": \"created_at\", \"idx\": 1433294340000, \"val\": 103}, {\"col\": \"created_at\", \"idx\": 1433294400000, \"val\": 305}, {\"col\": \"created_at\", \"idx\": 1433294460000, \"val\": 156}, {\"col\": \"created_at\", \"idx\": 1433294520000, \"val\": 96}, {\"col\": \"created_at\", \"idx\": 1433294580000, \"val\": 89}, {\"col\": \"created_at\", \"idx\": 1433294640000, \"val\": 75}, {\"col\": \"created_at\", \"idx\": 1433294700000, \"val\": 142}, {\"col\": \"created_at\", \"idx\": 1433294760000, \"val\": 90}, {\"col\": \"created_at\", \"idx\": 1433294820000, \"val\": 80}, {\"col\": \"created_at\", \"idx\": 1433294880000, \"val\": 51}, {\"col\": \"created_at\", \"idx\": 1433294940000, \"val\": 58}, {\"col\": \"created_at\", \"idx\": 1433295000000, \"val\": 42}, {\"col\": \"created_at\", \"idx\": 1433295060000, \"val\": 39}, {\"col\": \"created_at\", \"idx\": 1433295120000, \"val\": 40}, {\"col\": \"created_at\", \"idx\": 1433295180000, \"val\": 43}, {\"col\": \"created_at\", \"idx\": 1433295240000, \"val\": 46}, {\"col\": \"created_at\", \"idx\": 1433295300000, \"val\": 52}, {\"col\": \"created_at\", \"idx\": 1433295360000, \"val\": 30}, {\"col\": \"created_at\", \"idx\": 1433295420000, \"val\": 27}, {\"col\": \"created_at\", \"idx\": 1433295480000, \"val\": 27}, {\"col\": \"created_at\", \"idx\": 1433295540000, \"val\": 26}, {\"col\": \"created_at\", \"idx\": 1433295600000, \"val\": 41}, {\"col\": \"created_at\", \"idx\": 1433295660000, \"val\": 23}, {\"col\": \"created_at\", \"idx\": 1433295720000, \"val\": 79}, {\"col\": \"created_at\", \"idx\": 1433295780000, \"val\": 140}, {\"col\": \"created_at\", \"idx\": 1433295840000, \"val\": 118}, {\"col\": \"created_at\", \"idx\": 1433295900000, \"val\": 104}, {\"col\": \"created_at\", \"idx\": 1433295960000, \"val\": 106}, {\"col\": \"created_at\", \"idx\": 1433296020000, \"val\": 101}, {\"col\": \"created_at\", \"idx\": 1433296080000, \"val\": 94}, {\"col\": \"created_at\", \"idx\": 1433296140000, \"val\": 95}, {\"col\": \"created_at\", \"idx\": 1433296200000, \"val\": 97}, {\"col\": \"created_at\", \"idx\": 1433296260000, \"val\": 88}, {\"col\": \"created_at\", \"idx\": 1433296320000, \"val\": 66}, {\"col\": \"created_at\", \"idx\": 1433296380000, \"val\": 78}, {\"col\": \"created_at\", \"idx\": 1433296440000, \"val\": 111}, {\"col\": \"created_at\", \"idx\": 1433296500000, \"val\": 98}, {\"col\": \"created_at\", \"idx\": 1433296560000, \"val\": 83}, {\"col\": \"created_at\", \"idx\": 1433296620000, \"val\": 64}, {\"col\": \"created_at\", \"idx\": 1433296680000, \"val\": 75}, {\"col\": \"created_at\", \"idx\": 1433296740000, \"val\": 59}, {\"col\": \"created_at\", \"idx\": 1433296800000, \"val\": 67}, {\"col\": \"created_at\", \"idx\": 1433296860000, \"val\": 86}, {\"col\": \"created_at\", \"idx\": 1433296920000, \"val\": 154}, {\"col\": \"created_at\", \"idx\": 1433296980000, \"val\": 106}, {\"col\": \"created_at\", \"idx\": 1433297040000, \"val\": 95}, {\"col\": \"created_at\", \"idx\": 1433297100000, \"val\": 67}, {\"col\": \"created_at\", \"idx\": 1433297160000, \"val\": 81}, {\"col\": \"created_at\", \"idx\": 1433297220000, \"val\": 77}, {\"col\": \"created_at\", \"idx\": 1433297280000, \"val\": 57}, {\"col\": \"created_at\", \"idx\": 1433297340000, \"val\": 62}, {\"col\": \"created_at\", \"idx\": 1433297400000, \"val\": 74}, {\"col\": \"created_at\", \"idx\": 1433297460000, \"val\": 76}, {\"col\": \"created_at\", \"idx\": 1433297520000, \"val\": 55}, {\"col\": \"created_at\", \"idx\": 1433297580000, \"val\": 63}, {\"col\": \"created_at\", \"idx\": 1433297640000, \"val\": 33}, {\"col\": \"created_at\", \"idx\": 1433297700000, \"val\": 34}, {\"col\": \"created_at\", \"idx\": 1433297760000, \"val\": 43}, {\"col\": \"created_at\", \"idx\": 1433297820000, \"val\": 43}, {\"col\": \"created_at\", \"idx\": 1433297880000, \"val\": 35}, {\"col\": \"created_at\", \"idx\": 1433297940000, \"val\": 31}, {\"col\": \"created_at\", \"idx\": 1433298000000, \"val\": 35}, {\"col\": \"created_at\", \"idx\": 1433298060000, \"val\": 48}, {\"col\": \"created_at\", \"idx\": 1433298120000, \"val\": 51}, {\"col\": \"created_at\", \"idx\": 1433298180000, \"val\": 77}, {\"col\": \"created_at\", \"idx\": 1433298240000, \"val\": 66}, {\"col\": \"created_at\", \"idx\": 1433298300000, \"val\": 93}, {\"col\": \"created_at\", \"idx\": 1433298360000, \"val\": 129}, {\"col\": \"created_at\", \"idx\": 1433298420000, \"val\": 104}, {\"col\": \"created_at\", \"idx\": 1433298480000, \"val\": 74}, {\"col\": \"created_at\", \"idx\": 1433298540000, \"val\": 59}, {\"col\": \"created_at\", \"idx\": 1433298600000, \"val\": 76}, {\"col\": \"created_at\", \"idx\": 1433298660000, \"val\": 117}, {\"col\": \"created_at\", \"idx\": 1433298720000, \"val\": 114}, {\"col\": \"created_at\", \"idx\": 1433298780000, \"val\": 104}, {\"col\": \"created_at\", \"idx\": 1433298840000, \"val\": 100}, {\"col\": \"created_at\", \"idx\": 1433298900000, \"val\": 98}, {\"col\": \"created_at\", \"idx\": 1433298960000, \"val\": 128}, {\"col\": \"created_at\", \"idx\": 1433299020000, \"val\": 90}, {\"col\": \"created_at\", \"idx\": 1433299080000, \"val\": 63}, {\"col\": \"created_at\", \"idx\": 1433299140000, \"val\": 108}, {\"col\": \"created_at\", \"idx\": 1433299200000, \"val\": 107}, {\"col\": \"created_at\", \"idx\": 1433299260000, \"val\": 105}, {\"col\": \"created_at\", \"idx\": 1433299320000, \"val\": 88}, {\"col\": \"created_at\", \"idx\": 1433299380000, \"val\": 72}, {\"col\": \"created_at\", \"idx\": 1433299440000, \"val\": 80}, {\"col\": \"created_at\", \"idx\": 1433299500000, \"val\": 55}, {\"col\": \"created_at\", \"idx\": 1433299560000, \"val\": 58}, {\"col\": \"created_at\", \"idx\": 1433299620000, \"val\": 51}, {\"col\": \"created_at\", \"idx\": 1433299680000, \"val\": 43}, {\"col\": \"created_at\", \"idx\": 1433299740000, \"val\": 51}, {\"col\": \"created_at\", \"idx\": 1433299800000, \"val\": 39}, {\"col\": \"created_at\", \"idx\": 1433299860000, \"val\": 46}, {\"col\": \"created_at\", \"idx\": 1433299920000, \"val\": 64}, {\"col\": \"created_at\", \"idx\": 1433299980000, \"val\": 63}, {\"col\": \"created_at\", \"idx\": 1433300040000, \"val\": 72}, {\"col\": \"created_at\", \"idx\": 1433300100000, \"val\": 89}, {\"col\": \"created_at\", \"idx\": 1433300160000, \"val\": 64}, {\"col\": \"created_at\", \"idx\": 1433300220000, \"val\": 45}, {\"col\": \"created_at\", \"idx\": 1433300280000, \"val\": 54}, {\"col\": \"created_at\", \"idx\": 1433300340000, \"val\": 34}, {\"col\": \"created_at\", \"idx\": 1433300400000, \"val\": 26}, {\"col\": \"created_at\", \"idx\": 1433300460000, \"val\": 27}, {\"col\": \"created_at\", \"idx\": 1433300520000, \"val\": 28}, {\"col\": \"created_at\", \"idx\": 1433300580000, \"val\": 19}, {\"col\": \"created_at\", \"idx\": 1433300640000, \"val\": 25}, {\"col\": \"created_at\", \"idx\": 1433300700000, \"val\": 37}, {\"col\": \"created_at\", \"idx\": 1433300760000, \"val\": 17}, {\"col\": \"created_at\", \"idx\": 1433300820000, \"val\": 47}, {\"col\": \"created_at\", \"idx\": 1433300880000, \"val\": 37}, {\"col\": \"created_at\", \"idx\": 1433300940000, \"val\": 22}, {\"col\": \"created_at\", \"idx\": 1433301000000, \"val\": 36}, {\"col\": \"created_at\", \"idx\": 1433301060000, \"val\": 20}]}, {\"name\": \"stats\", \"source\": \"table\", \"transform\": [{\"keys\": [\"data.idx\"], \"type\": \"facet\"}, {\"type\": \"stats\", \"value\": \"data.val\"}]}], \"height\": 500, \"legends\": [], \"marks\": [{\"from\": {\"data\": \"table\", \"transform\": [{\"keys\": [\"data.col\"], \"type\": \"facet\"}, {\"height\": \"data.val\", \"point\": \"data.idx\", \"type\": \"stack\"}]}, \"marks\": [{\"properties\": {\"enter\": {\"fill\": {\"field\": \"data.col\", \"scale\": \"color\"}, \"interpolate\": {\"value\": \"monotone\"}, \"x\": {\"field\": \"data.idx\", \"scale\": \"x\"}, \"y\": {\"field\": \"y\", \"scale\": \"y\"}, \"y2\": {\"field\": \"y2\", \"scale\": \"y\"}}}, \"type\": \"area\"}], \"type\": \"group\"}], \"padding\": \"auto\", \"scales\": [{\"domain\": {\"data\": \"table\", \"field\": \"data.idx\"}, \"name\": \"x\", \"range\": \"width\", \"type\": \"time\", \"zero\": false}, {\"domain\": {\"data\": \"stats\", \"field\": \"sum\"}, \"name\": \"y\", \"nice\": true, \"range\": \"height\"}, {\"domain\": {\"data\": \"table\", \"field\": \"data.col\"}, \"name\": \"color\", \"range\": [\"#9e0142\", \"#d53e4f\", \"#f46d43\", \"#fdae61\", \"#fee08b\", \"#ffffbf\", \"#e6f598\", \"#abdda4\", \"#66c2a5\", \"#3288bd\", \"#5e4fa2\"], \"type\": \"ordinal\"}], \"width\": 960}, function(chart) {\n",
        "         chart({el: \"#vis3ce901eadd0d496b9a67b63dee5e0250\"}).update();\n",
        "       });\n",
        "     };\n",
        "     _do_plot();\n",
        "   })();\n",
        "</script>\n",
        "<style>.vega canvas {width: 100%;}</style>\n",
        "        "
       ],
       "metadata": {},
       "output_type": "display_data",
       "text": [
        "<IPython.core.display.HTML at 0x106795110>"
       ]
      }
     ],
     "prompt_number": 26
    },
    {
     "cell_type": "markdown",
     "metadata": {},
     "source": [
      "We notice a large spike in Los Angeles Dodgers related tweets around 9:20 - this coincides with a Joc Pederson homerun. This was his 4th home run in as many games, and the longest homerun of the 2015 season thus far. At 480ft, this homerun was also one of the longest homeruns ever by a rookie. "
     ]
    },
    {
     "cell_type": "code",
     "collapsed": false,
     "input": [
      "import vincent\n",
      "vincent.core.initialize_notebook()\n",
      "area = vincent.StackedArea(rockies_per_min)\n",
      "area.axis_titles(x = \"time\", y='Tweets per Minute')\n",
      "area.colors(brew='Set2')\n",
      "area.display()"
     ],
     "language": "python",
     "metadata": {},
     "outputs": [
      {
       "html": [
        "\n",
        "           <script>\n",
        "               \n",
        "                function vct_load_lib(url, callback){\n",
        "                      if(typeof d3 !== 'undefined' &&\n",
        "                         url === 'http://d3js.org/d3.v3.min.js'){\n",
        "                        callback()\n",
        "                      }\n",
        "                      var s = document.createElement('script');\n",
        "                      s.src = url;\n",
        "                      s.async = true;\n",
        "                      s.onreadystatechange = s.onload = callback;\n",
        "                      s.onerror = function(){\n",
        "                        console.warn(\"failed to load library \" + url);\n",
        "                        };\n",
        "                      document.getElementsByTagName(\"head\")[0].appendChild(s);\n",
        "                };\n",
        "                var vincent_event = new CustomEvent(\n",
        "                  \"vincent_libs_loaded\",\n",
        "                  {bubbles: true, cancelable: true}\n",
        "                );\n",
        "                \n",
        "               function load_all_libs(){\n",
        "                  console.log('Loading Vincent libs...')\n",
        "                  vct_load_lib('http://d3js.org/d3.v3.min.js', function(){\n",
        "                  vct_load_lib('http://d3js.org/d3.geo.projection.v0.min.js', function(){\n",
        "                  vct_load_lib('http://wrobstory.github.io/d3-cloud/d3.layout.cloud.js', function(){\n",
        "                  vct_load_lib('http://wrobstory.github.io/vega/vega.v1.3.3.js', function(){\n",
        "                  window.dispatchEvent(vincent_event);\n",
        "                  });\n",
        "                  });\n",
        "                  });\n",
        "                  });\n",
        "               };\n",
        "               if(typeof define === \"function\" && define.amd){\n",
        "                    if (window['d3'] === undefined ||\n",
        "                        window['topojson'] === undefined){\n",
        "                        require.config(\n",
        "                            {paths: {\n",
        "                              d3: 'http://d3js.org/d3.v3.min',\n",
        "                              topojson: 'http://d3js.org/topojson.v1.min'\n",
        "                              }\n",
        "                            }\n",
        "                          );\n",
        "                        require([\"d3\"], function(d3){\n",
        "                            console.log('Loading Vincent from require.js...')\n",
        "                            window.d3 = d3;\n",
        "                            require([\"topojson\"], function(topojson){\n",
        "                                window.topojson = topojson;\n",
        "                                load_all_libs();\n",
        "                            });\n",
        "                        });\n",
        "                    } else {\n",
        "                        load_all_libs();\n",
        "                    };\n",
        "               }else{\n",
        "                    console.log('Require.js not found, loading manually...')\n",
        "                    load_all_libs();\n",
        "               };\n",
        "\n",
        "           </script>"
       ],
       "metadata": {},
       "output_type": "display_data",
       "text": [
        "<IPython.core.display.HTML at 0x1140696d0>"
       ]
      },
      {
       "html": [
        "<div id=\"vis6efd616e80844e49a1ba36c232906f03\"></div>\n",
        "<script>\n",
        "   ( function() {\n",
        "     var _do_plot = function() {\n",
        "       if (typeof vg === 'undefined') {\n",
        "         window.addEventListener('vincent_libs_loaded', _do_plot)\n",
        "         return;\n",
        "       }\n",
        "       vg.parse.spec({\"axes\": [{\"scale\": \"x\", \"title\": \"time\", \"type\": \"x\"}, {\"scale\": \"y\", \"title\": \"Tweets per Minute\", \"type\": \"y\"}], \"data\": [{\"name\": \"table\", \"values\": [{\"col\": \"created_at\", \"idx\": 1433290320000, \"val\": 2}, {\"col\": \"created_at\", \"idx\": 1433290380000, \"val\": 17}, {\"col\": \"created_at\", \"idx\": 1433290440000, \"val\": 8}, {\"col\": \"created_at\", \"idx\": 1433290500000, \"val\": 9}, {\"col\": \"created_at\", \"idx\": 1433290560000, \"val\": 4}, {\"col\": \"created_at\", \"idx\": 1433290620000, \"val\": 8}, {\"col\": \"created_at\", \"idx\": 1433290680000, \"val\": 7}, {\"col\": \"created_at\", \"idx\": 1433290740000, \"val\": 7}, {\"col\": \"created_at\", \"idx\": 1433290800000, \"val\": 5}, {\"col\": \"created_at\", \"idx\": 1433290860000, \"val\": 9}, {\"col\": \"created_at\", \"idx\": 1433290920000, \"val\": 4}, {\"col\": \"created_at\", \"idx\": 1433290980000, \"val\": 5}, {\"col\": \"created_at\", \"idx\": 1433291040000, \"val\": 3}, {\"col\": \"created_at\", \"idx\": 1433291100000, \"val\": 7}, {\"col\": \"created_at\", \"idx\": 1433291160000, \"val\": 6}, {\"col\": \"created_at\", \"idx\": 1433291220000, \"val\": 20}, {\"col\": \"created_at\", \"idx\": 1433291280000, \"val\": 38}, {\"col\": \"created_at\", \"idx\": 1433291340000, \"val\": 8}, {\"col\": \"created_at\", \"idx\": 1433291400000, \"val\": 13}, {\"col\": \"created_at\", \"idx\": 1433291460000, \"val\": 6}, {\"col\": \"created_at\", \"idx\": 1433291520000, \"val\": 10}, {\"col\": \"created_at\", \"idx\": 1433291580000, \"val\": 6}, {\"col\": \"created_at\", \"idx\": 1433291640000, \"val\": 11}, {\"col\": \"created_at\", \"idx\": 1433291700000, \"val\": 9}, {\"col\": \"created_at\", \"idx\": 1433291760000, \"val\": 4}, {\"col\": \"created_at\", \"idx\": 1433291820000, \"val\": 15}, {\"col\": \"created_at\", \"idx\": 1433291880000, \"val\": 15}, {\"col\": \"created_at\", \"idx\": 1433291940000, \"val\": 10}, {\"col\": \"created_at\", \"idx\": 1433292000000, \"val\": 12}, {\"col\": \"created_at\", \"idx\": 1433292060000, \"val\": 7}, {\"col\": \"created_at\", \"idx\": 1433292120000, \"val\": 5}, {\"col\": \"created_at\", \"idx\": 1433292180000, \"val\": 11}, {\"col\": \"created_at\", \"idx\": 1433292240000, \"val\": 15}, {\"col\": \"created_at\", \"idx\": 1433292300000, \"val\": 14}, {\"col\": \"created_at\", \"idx\": 1433292360000, \"val\": 10}, {\"col\": \"created_at\", \"idx\": 1433292420000, \"val\": 12}, {\"col\": \"created_at\", \"idx\": 1433292480000, \"val\": 11}, {\"col\": \"created_at\", \"idx\": 1433292540000, \"val\": 7}, {\"col\": \"created_at\", \"idx\": 1433292600000, \"val\": 5}, {\"col\": \"created_at\", \"idx\": 1433292660000, \"val\": 6}, {\"col\": \"created_at\", \"idx\": 1433292720000, \"val\": 4}, {\"col\": \"created_at\", \"idx\": 1433292780000, \"val\": 6}, {\"col\": \"created_at\", \"idx\": 1433292840000, \"val\": 7}, {\"col\": \"created_at\", \"idx\": 1433292900000, \"val\": 9}, {\"col\": \"created_at\", \"idx\": 1433292960000, \"val\": 4}, {\"col\": \"created_at\", \"idx\": 1433293020000, \"val\": 2}, {\"col\": \"created_at\", \"idx\": 1433293080000, \"val\": 16}, {\"col\": \"created_at\", \"idx\": 1433293140000, \"val\": 7}, {\"col\": \"created_at\", \"idx\": 1433293200000, \"val\": 5}, {\"col\": \"created_at\", \"idx\": 1433293260000, \"val\": 11}, {\"col\": \"created_at\", \"idx\": 1433293320000, \"val\": 8}, {\"col\": \"created_at\", \"idx\": 1433293380000, \"val\": 8}, {\"col\": \"created_at\", \"idx\": 1433293440000, \"val\": 5}, {\"col\": \"created_at\", \"idx\": 1433293500000, \"val\": 5}, {\"col\": \"created_at\", \"idx\": 1433293560000, \"val\": 4}, {\"col\": \"created_at\", \"idx\": 1433293620000, \"val\": 2}, {\"col\": \"created_at\", \"idx\": 1433293680000, \"val\": 5}, {\"col\": \"created_at\", \"idx\": 1433293740000, \"val\": 7}, {\"col\": \"created_at\", \"idx\": 1433293800000, \"val\": 36}, {\"col\": \"created_at\", \"idx\": 1433293860000, \"val\": 6}, {\"col\": \"created_at\", \"idx\": 1433293920000, \"val\": 6}, {\"col\": \"created_at\", \"idx\": 1433293980000, \"val\": 8}, {\"col\": \"created_at\", \"idx\": 1433294040000, \"val\": 12}, {\"col\": \"created_at\", \"idx\": 1433294100000, \"val\": 16}, {\"col\": \"created_at\", \"idx\": 1433294160000, \"val\": 10}, {\"col\": \"created_at\", \"idx\": 1433294220000, \"val\": 18}, {\"col\": \"created_at\", \"idx\": 1433294280000, \"val\": 8}, {\"col\": \"created_at\", \"idx\": 1433294340000, \"val\": 10}, {\"col\": \"created_at\", \"idx\": 1433294400000, \"val\": 15}, {\"col\": \"created_at\", \"idx\": 1433294460000, \"val\": 13}, {\"col\": \"created_at\", \"idx\": 1433294520000, \"val\": 19}, {\"col\": \"created_at\", \"idx\": 1433294580000, \"val\": 12}, {\"col\": \"created_at\", \"idx\": 1433294640000, \"val\": 11}, {\"col\": \"created_at\", \"idx\": 1433294700000, \"val\": 11}, {\"col\": \"created_at\", \"idx\": 1433294760000, \"val\": 7}, {\"col\": \"created_at\", \"idx\": 1433294820000, \"val\": 4}, {\"col\": \"created_at\", \"idx\": 1433294880000, \"val\": 9}, {\"col\": \"created_at\", \"idx\": 1433294940000, \"val\": 5}, {\"col\": \"created_at\", \"idx\": 1433295000000, \"val\": 14}, {\"col\": \"created_at\", \"idx\": 1433295060000, \"val\": 11}, {\"col\": \"created_at\", \"idx\": 1433295120000, \"val\": 18}, {\"col\": \"created_at\", \"idx\": 1433295180000, \"val\": 23}, {\"col\": \"created_at\", \"idx\": 1433295240000, \"val\": 18}, {\"col\": \"created_at\", \"idx\": 1433295300000, \"val\": 17}, {\"col\": \"created_at\", \"idx\": 1433295360000, \"val\": 5}, {\"col\": \"created_at\", \"idx\": 1433295420000, \"val\": 11}, {\"col\": \"created_at\", \"idx\": 1433295480000, \"val\": 8}, {\"col\": \"created_at\", \"idx\": 1433295540000, \"val\": 10}, {\"col\": \"created_at\", \"idx\": 1433295600000, \"val\": 18}, {\"col\": \"created_at\", \"idx\": 1433295660000, \"val\": 6}, {\"col\": \"created_at\", \"idx\": 1433295720000, \"val\": 7}, {\"col\": \"created_at\", \"idx\": 1433295780000, \"val\": 47}, {\"col\": \"created_at\", \"idx\": 1433295840000, \"val\": 29}, {\"col\": \"created_at\", \"idx\": 1433295900000, \"val\": 22}, {\"col\": \"created_at\", \"idx\": 1433295960000, \"val\": 11}, {\"col\": \"created_at\", \"idx\": 1433296020000, \"val\": 12}, {\"col\": \"created_at\", \"idx\": 1433296080000, \"val\": 10}, {\"col\": \"created_at\", \"idx\": 1433296140000, \"val\": 32}, {\"col\": \"created_at\", \"idx\": 1433296200000, \"val\": 18}, {\"col\": \"created_at\", \"idx\": 1433296260000, \"val\": 16}, {\"col\": \"created_at\", \"idx\": 1433296320000, \"val\": 10}, {\"col\": \"created_at\", \"idx\": 1433296380000, \"val\": 22}, {\"col\": \"created_at\", \"idx\": 1433296440000, \"val\": 23}, {\"col\": \"created_at\", \"idx\": 1433296500000, \"val\": 20}, {\"col\": \"created_at\", \"idx\": 1433296560000, \"val\": 9}, {\"col\": \"created_at\", \"idx\": 1433296620000, \"val\": 10}, {\"col\": \"created_at\", \"idx\": 1433296680000, \"val\": 20}, {\"col\": \"created_at\", \"idx\": 1433296740000, \"val\": 12}, {\"col\": \"created_at\", \"idx\": 1433296800000, \"val\": 15}, {\"col\": \"created_at\", \"idx\": 1433296860000, \"val\": 7}, {\"col\": \"created_at\", \"idx\": 1433296920000, \"val\": 12}, {\"col\": \"created_at\", \"idx\": 1433296980000, \"val\": 12}, {\"col\": \"created_at\", \"idx\": 1433297040000, \"val\": 11}, {\"col\": \"created_at\", \"idx\": 1433297100000, \"val\": 10}, {\"col\": \"created_at\", \"idx\": 1433297160000, \"val\": 14}, {\"col\": \"created_at\", \"idx\": 1433297220000, \"val\": 14}, {\"col\": \"created_at\", \"idx\": 1433297280000, \"val\": 4}, {\"col\": \"created_at\", \"idx\": 1433297340000, \"val\": 6}, {\"col\": \"created_at\", \"idx\": 1433297400000, \"val\": 5}, {\"col\": \"created_at\", \"idx\": 1433297460000, \"val\": 8}, {\"col\": \"created_at\", \"idx\": 1433297520000, \"val\": 13}, {\"col\": \"created_at\", \"idx\": 1433297580000, \"val\": 24}, {\"col\": \"created_at\", \"idx\": 1433297640000, \"val\": 23}, {\"col\": \"created_at\", \"idx\": 1433297700000, \"val\": 7}, {\"col\": \"created_at\", \"idx\": 1433297760000, \"val\": 10}, {\"col\": \"created_at\", \"idx\": 1433297820000, \"val\": 8}, {\"col\": \"created_at\", \"idx\": 1433297880000, \"val\": 6}, {\"col\": \"created_at\", \"idx\": 1433297940000, \"val\": 9}, {\"col\": \"created_at\", \"idx\": 1433298000000, \"val\": 26}, {\"col\": \"created_at\", \"idx\": 1433298060000, \"val\": 40}, {\"col\": \"created_at\", \"idx\": 1433298120000, \"val\": 42}, {\"col\": \"created_at\", \"idx\": 1433298180000, \"val\": 52}, {\"col\": \"created_at\", \"idx\": 1433298240000, \"val\": 42}, {\"col\": \"created_at\", \"idx\": 1433298300000, \"val\": 59}, {\"col\": \"created_at\", \"idx\": 1433298360000, \"val\": 88}, {\"col\": \"created_at\", \"idx\": 1433298420000, \"val\": 79}, {\"col\": \"created_at\", \"idx\": 1433298480000, \"val\": 60}, {\"col\": \"created_at\", \"idx\": 1433298540000, \"val\": 40}, {\"col\": \"created_at\", \"idx\": 1433298600000, \"val\": 61}, {\"col\": \"created_at\", \"idx\": 1433298660000, \"val\": 98}, {\"col\": \"created_at\", \"idx\": 1433298720000, \"val\": 101}, {\"col\": \"created_at\", \"idx\": 1433298780000, \"val\": 87}, {\"col\": \"created_at\", \"idx\": 1433298840000, \"val\": 80}, {\"col\": \"created_at\", \"idx\": 1433298900000, \"val\": 72}, {\"col\": \"created_at\", \"idx\": 1433298960000, \"val\": 109}, {\"col\": \"created_at\", \"idx\": 1433299020000, \"val\": 76}, {\"col\": \"created_at\", \"idx\": 1433299080000, \"val\": 36}, {\"col\": \"created_at\", \"idx\": 1433299140000, \"val\": 39}, {\"col\": \"created_at\", \"idx\": 1433299200000, \"val\": 47}, {\"col\": \"created_at\", \"idx\": 1433299260000, \"val\": 60}, {\"col\": \"created_at\", \"idx\": 1433299320000, \"val\": 59}, {\"col\": \"created_at\", \"idx\": 1433299380000, \"val\": 46}, {\"col\": \"created_at\", \"idx\": 1433299440000, \"val\": 36}, {\"col\": \"created_at\", \"idx\": 1433299500000, \"val\": 31}, {\"col\": \"created_at\", \"idx\": 1433299560000, \"val\": 39}, {\"col\": \"created_at\", \"idx\": 1433299620000, \"val\": 31}, {\"col\": \"created_at\", \"idx\": 1433299680000, \"val\": 25}, {\"col\": \"created_at\", \"idx\": 1433299740000, \"val\": 37}, {\"col\": \"created_at\", \"idx\": 1433299800000, \"val\": 33}, {\"col\": \"created_at\", \"idx\": 1433299860000, \"val\": 37}, {\"col\": \"created_at\", \"idx\": 1433299920000, \"val\": 63}, {\"col\": \"created_at\", \"idx\": 1433299980000, \"val\": 99}, {\"col\": \"created_at\", \"idx\": 1433300040000, \"val\": 78}, {\"col\": \"created_at\", \"idx\": 1433300100000, \"val\": 83}, {\"col\": \"created_at\", \"idx\": 1433300160000, \"val\": 54}, {\"col\": \"created_at\", \"idx\": 1433300220000, \"val\": 32}, {\"col\": \"created_at\", \"idx\": 1433300280000, \"val\": 37}, {\"col\": \"created_at\", \"idx\": 1433300340000, \"val\": 22}, {\"col\": \"created_at\", \"idx\": 1433300400000, \"val\": 24}, {\"col\": \"created_at\", \"idx\": 1433300460000, \"val\": 20}, {\"col\": \"created_at\", \"idx\": 1433300520000, \"val\": 14}, {\"col\": \"created_at\", \"idx\": 1433300580000, \"val\": 28}, {\"col\": \"created_at\", \"idx\": 1433300640000, \"val\": 27}, {\"col\": \"created_at\", \"idx\": 1433300700000, \"val\": 24}, {\"col\": \"created_at\", \"idx\": 1433300760000, \"val\": 19}, {\"col\": \"created_at\", \"idx\": 1433300820000, \"val\": 42}, {\"col\": \"created_at\", \"idx\": 1433300880000, \"val\": 32}, {\"col\": \"created_at\", \"idx\": 1433300940000, \"val\": 26}, {\"col\": \"created_at\", \"idx\": 1433301000000, \"val\": 35}, {\"col\": \"created_at\", \"idx\": 1433301060000, \"val\": 18}, {\"col\": \"created_at\", \"idx\": 1433301120000, \"val\": 19}, {\"col\": \"created_at\", \"idx\": 1433301180000, \"val\": 23}, {\"col\": \"created_at\", \"idx\": 1433301240000, \"val\": 19}, {\"col\": \"created_at\", \"idx\": 1433301300000, \"val\": 25}, {\"col\": \"created_at\", \"idx\": 1433301360000, \"val\": 25}, {\"col\": \"created_at\", \"idx\": 1433301420000, \"val\": 28}, {\"col\": \"created_at\", \"idx\": 1433301480000, \"val\": 10}]}, {\"name\": \"stats\", \"source\": \"table\", \"transform\": [{\"keys\": [\"data.idx\"], \"type\": \"facet\"}, {\"type\": \"stats\", \"value\": \"data.val\"}]}], \"height\": 500, \"legends\": [], \"marks\": [{\"from\": {\"data\": \"table\", \"transform\": [{\"keys\": [\"data.col\"], \"type\": \"facet\"}, {\"height\": \"data.val\", \"point\": \"data.idx\", \"type\": \"stack\"}]}, \"marks\": [{\"properties\": {\"enter\": {\"fill\": {\"field\": \"data.col\", \"scale\": \"color\"}, \"interpolate\": {\"value\": \"monotone\"}, \"x\": {\"field\": \"data.idx\", \"scale\": \"x\"}, \"y\": {\"field\": \"y\", \"scale\": \"y\"}, \"y2\": {\"field\": \"y2\", \"scale\": \"y\"}}}, \"type\": \"area\"}], \"type\": \"group\"}], \"padding\": \"auto\", \"scales\": [{\"domain\": {\"data\": \"table\", \"field\": \"data.idx\"}, \"name\": \"x\", \"range\": \"width\", \"type\": \"time\", \"zero\": false}, {\"domain\": {\"data\": \"stats\", \"field\": \"sum\"}, \"name\": \"y\", \"nice\": true, \"range\": \"height\"}, {\"domain\": {\"data\": \"table\", \"field\": \"data.col\"}, \"name\": \"color\", \"range\": [\"#66c2a5\", \"#fc8d62\", \"#8da0cb\", \"#e78ac3\", \"#a6d854\", \"#ffd92f\", \"#e5c494\", \"#b3b3b3\"], \"type\": \"ordinal\"}], \"width\": 960}, function(chart) {\n",
        "         chart({el: \"#vis6efd616e80844e49a1ba36c232906f03\"}).update();\n",
        "       });\n",
        "     };\n",
        "     _do_plot();\n",
        "   })();\n",
        "</script>\n",
        "<style>.vega canvas {width: 100%;}</style>\n",
        "        "
       ],
       "metadata": {},
       "output_type": "display_data",
       "text": [
        "<IPython.core.display.HTML at 0x113faa310>"
       ]
      }
     ],
     "prompt_number": 86
    },
    {
     "cell_type": "markdown",
     "metadata": {},
     "source": [
      "The Rockies were quieter on Twitter, with the maximum amount of tweets per minute peaking at around 100. This occured closer to the end of the game as the rockies came from behind to get the lead in the 7th inning. We notice some small peaks around 8:30, 9:10, and 9:45 - these all coincide with scoring plays."
     ]
    },
    {
     "cell_type": "markdown",
     "metadata": {},
     "source": [
      "Next, we will analyze words co-occuring with with the tracked words in the Twitter Streams. Using the nltk module, we can filter out common stop words in English like \"of\", \"in\", and \"the\". This gives us a bit of a feeling of the sentiments of each team's twitter users. We notice that a lot of tweets @mention the baseball team they are talking about, as well as apply the appropriate hashtags. Notice that \"Joc\" appears in about 2500 of the Dodgers tweets - this is indicative of the hype surrounding the young rookie."
     ]
    },
    {
     "cell_type": "code",
     "collapsed": false,
     "input": [
      "import nltk\n",
      "from nltk.corpus import stopwords\n",
      "from nltk import FreqDist\n",
      "import warnings\n",
      "warnings.filterwarnings('ignore')\n",
      "stop = stopwords.words('english')\n",
      "stop.extend([\"de\",\"\",\" \"]) #add some spanish stopwords\n",
      "text = dodgers['text']\n",
      "\n",
      "\n",
      "tokens = []\n",
      "for txt in text.values:\n",
      "    tokens.extend([t.lower().strip(\":,.\") for t in txt.split()])\n",
      "\n",
      "\n",
      "\n",
      "filtered_tokens = [w for w in tokens if not w in stop]\n",
      "\n",
      "dod_freq_dist = nltk.FreqDist(filtered_tokens)\n",
      "\n",
      "text = rockies['text']\n",
      "\n",
      "tokens = []\n",
      "for txt in text.values:\n",
      "    tokens.extend([t.lower().strip(\":,.\") for t in txt.split()])\n",
      "\n",
      "\n",
      "\n",
      "filtered_tokens = [w for w in tokens if not w in stop]\n",
      "\n",
      "rock_freq_dist = nltk.FreqDist(filtered_tokens)"
     ],
     "language": "python",
     "metadata": {},
     "outputs": [],
     "prompt_number": 90
    },
    {
     "cell_type": "code",
     "collapsed": false,
     "input": [
      "%matplotlib inline\n",
      "import matplotlib\n",
      "import numpy as np\n",
      "import matplotlib.pyplot as plt\n",
      "\n",
      "plt.figure(figsize=(12,5))\n",
      "plt.figure(1)\n",
      "plt.subplot(211)\n",
      "plt.title(r'Dodgers Co-Occurence')\n",
      "plt.xlabel('word')\n",
      "plt.ylabel('count')\n",
      "dod_freq_dist.plot(25, color = \"blue\")\n",
      "\n",
      "plt.figure(figsize=(12,5))\n",
      "plt.subplot(212)\n",
      "plt.title(r'Rockiess Co-Occurence')\n",
      "plt.xlabel('word')\n",
      "plt.ylabel('count')\n",
      "rock_freq_dist.plot(25, color = \"purple\")\n"
     ],
     "language": "python",
     "metadata": {},
     "outputs": [
      {
       "metadata": {},
       "output_type": "display_data",
       "png": "[encoded data removed]",
       "text": [
        "<matplotlib.figure.Figure at 0x10df4ef50>"
       ]
      },
      {
       "metadata": {},
       "output_type": "display_data",
       "png": "[encoded data removed]",
       "text": [
        "<matplotlib.figure.Figure at 0x10d41c610>"
       ]
      }
     ],
     "prompt_number": 91
    },
    {
     "cell_type": "markdown",
     "metadata": {},
     "source": [
      "Lastly, we will have a look at the source of the tweets. We note that a vast majority of tweets for the Dodgers came in through  an iPhone, as opposed to most Rockies tweets coming from twitter itself. "
     ]
    },
    {
     "cell_type": "code",
     "collapsed": false,
     "input": [
      "import vincent\n",
      "vincent.core.initialize_notebook()\n",
      "area = vincent.Bar(dodgers.source.value_counts().head(10))\n",
      "area.colors(brew='Spectral')\n",
      "area.axis_titles(x = \"Dodgers Source\", y='')\n",
      "area.display()\n",
      "\n",
      "vincent.core.initialize_notebook()\n",
      "area = vincent.Bar(rockies.source.value_counts().head(10))\n",
      "area.colors(brew='Set2')\n",
      "area.axis_titles(x = \"Rockies Source\", y='')\n",
      "area.display()"
     ],
     "language": "python",
     "metadata": {},
     "outputs": [
      {
       "html": [
        "\n",
        "           <script>\n",
        "               \n",
        "                function vct_load_lib(url, callback){\n",
        "                      if(typeof d3 !== 'undefined' &&\n",
        "                         url === 'http://d3js.org/d3.v3.min.js'){\n",
        "                        callback()\n",
        "                      }\n",
        "                      var s = document.createElement('script');\n",
        "                      s.src = url;\n",
        "                      s.async = true;\n",
        "                      s.onreadystatechange = s.onload = callback;\n",
        "                      s.onerror = function(){\n",
        "                        console.warn(\"failed to load library \" + url);\n",
        "                        };\n",
        "                      document.getElementsByTagName(\"head\")[0].appendChild(s);\n",
        "                };\n",
        "                var vincent_event = new CustomEvent(\n",
        "                  \"vincent_libs_loaded\",\n",
        "                  {bubbles: true, cancelable: true}\n",
        "                );\n",
        "                \n",
        "               function load_all_libs(){\n",
        "                  console.log('Loading Vincent libs...')\n",
        "                  vct_load_lib('http://d3js.org/d3.v3.min.js', function(){\n",
        "                  vct_load_lib('http://d3js.org/d3.geo.projection.v0.min.js', function(){\n",
        "                  vct_load_lib('http://wrobstory.github.io/d3-cloud/d3.layout.cloud.js', function(){\n",
        "                  vct_load_lib('http://wrobstory.github.io/vega/vega.v1.3.3.js', function(){\n",
        "                  window.dispatchEvent(vincent_event);\n",
        "                  });\n",
        "                  });\n",
        "                  });\n",
        "                  });\n",
        "               };\n",
        "               if(typeof define === \"function\" && define.amd){\n",
        "                    if (window['d3'] === undefined ||\n",
        "                        window['topojson'] === undefined){\n",
        "                        require.config(\n",
        "                            {paths: {\n",
        "                              d3: 'http://d3js.org/d3.v3.min',\n",
        "                              topojson: 'http://d3js.org/topojson.v1.min'\n",
        "                              }\n",
        "                            }\n",
        "                          );\n",
        "                        require([\"d3\"], function(d3){\n",
        "                            console.log('Loading Vincent from require.js...')\n",
        "                            window.d3 = d3;\n",
        "                            require([\"topojson\"], function(topojson){\n",
        "                                window.topojson = topojson;\n",
        "                                load_all_libs();\n",
        "                            });\n",
        "                        });\n",
        "                    } else {\n",
        "                        load_all_libs();\n",
        "                    };\n",
        "               }else{\n",
        "                    console.log('Require.js not found, loading manually...')\n",
        "                    load_all_libs();\n",
        "               };\n",
        "\n",
        "           </script>"
       ],
       "metadata": {},
       "output_type": "display_data",
       "text": [
        "<IPython.core.display.HTML at 0x11405c910>"
       ]
      },
      {
       "html": [
        "<div id=\"vis462cfb77065042c8a464cdd8dcd1341b\"></div>\n",
        "<script>\n",
        "   ( function() {\n",
        "     var _do_plot = function() {\n",
        "       if (typeof vg === 'undefined') {\n",
        "         window.addEventListener('vincent_libs_loaded', _do_plot)\n",
        "         return;\n",
        "       }\n",
        "       vg.parse.spec({\"axes\": [{\"scale\": \"x\", \"title\": \"Dodgers Source\", \"type\": \"x\"}, {\"scale\": \"y\", \"title\": \"\", \"type\": \"y\"}], \"data\": [{\"name\": \"table\", \"values\": [{\"col\": \"data\", \"idx\": \"Twitter for iPhone\", \"val\": 4940}, {\"col\": \"data\", \"idx\": \"Twitter for Android\", \"val\": 1560}, {\"col\": \"data\", \"idx\": \"twitterfeed\", \"val\": 1558}, {\"col\": \"data\", \"idx\": \"Twitter Web Client\", \"val\": 640}, {\"col\": \"data\", \"idx\": \"dlvr.it\", \"val\": 432}, {\"col\": \"data\", \"idx\": \"IFTTT\", \"val\": 303}, {\"col\": \"data\", \"idx\": \"Twitter for iPad\", \"val\": 201}, {\"col\": \"data\", \"idx\": \"TweetDeck\", \"val\": 153}, {\"col\": \"data\", \"idx\": \"Twitter for Android Tablets\", \"val\": 84}, {\"col\": \"data\", \"idx\": \"Echofon\", \"val\": 64}]}, {\"name\": \"stats\", \"source\": \"table\", \"transform\": [{\"keys\": [\"data.idx\"], \"type\": \"facet\"}, {\"type\": \"stats\", \"value\": \"data.val\"}]}], \"height\": 500, \"legends\": [], \"marks\": [{\"from\": {\"data\": \"table\", \"transform\": [{\"keys\": [\"data.col\"], \"type\": \"facet\"}, {\"height\": \"data.val\", \"point\": \"data.idx\", \"type\": \"stack\"}]}, \"marks\": [{\"properties\": {\"enter\": {\"fill\": {\"field\": \"data.col\", \"scale\": \"color\"}, \"width\": {\"band\": true, \"offset\": -1, \"scale\": \"x\"}, \"x\": {\"field\": \"data.idx\", \"scale\": \"x\"}, \"y\": {\"field\": \"y\", \"scale\": \"y\"}, \"y2\": {\"field\": \"y2\", \"scale\": \"y\"}}}, \"type\": \"rect\"}], \"type\": \"group\"}], \"padding\": \"auto\", \"scales\": [{\"domain\": {\"data\": \"table\", \"field\": \"data.idx\"}, \"name\": \"x\", \"range\": \"width\", \"type\": \"ordinal\", \"zero\": false}, {\"domain\": {\"data\": \"stats\", \"field\": \"sum\"}, \"name\": \"y\", \"nice\": true, \"range\": \"height\"}, {\"domain\": {\"data\": \"table\", \"field\": \"data.col\"}, \"name\": \"color\", \"range\": [\"#9e0142\", \"#d53e4f\", \"#f46d43\", \"#fdae61\", \"#fee08b\", \"#ffffbf\", \"#e6f598\", \"#abdda4\", \"#66c2a5\", \"#3288bd\", \"#5e4fa2\"], \"type\": \"ordinal\"}], \"width\": 960}, function(chart) {\n",
        "         chart({el: \"#vis462cfb77065042c8a464cdd8dcd1341b\"}).update();\n",
        "       });\n",
        "     };\n",
        "     _do_plot();\n",
        "   })();\n",
        "</script>\n",
        "<style>.vega canvas {width: 100%;}</style>\n",
        "        "
       ],
       "metadata": {},
       "output_type": "display_data",
       "text": [
        "<IPython.core.display.HTML at 0x10d45b050>"
       ]
      },
      {
       "html": [
        "\n",
        "           <script>\n",
        "               \n",
        "                function vct_load_lib(url, callback){\n",
        "                      if(typeof d3 !== 'undefined' &&\n",
        "                         url === 'http://d3js.org/d3.v3.min.js'){\n",
        "                        callback()\n",
        "                      }\n",
        "                      var s = document.createElement('script');\n",
        "                      s.src = url;\n",
        "                      s.async = true;\n",
        "                      s.onreadystatechange = s.onload = callback;\n",
        "                      s.onerror = function(){\n",
        "                        console.warn(\"failed to load library \" + url);\n",
        "                        };\n",
        "                      document.getElementsByTagName(\"head\")[0].appendChild(s);\n",
        "                };\n",
        "                var vincent_event = new CustomEvent(\n",
        "                  \"vincent_libs_loaded\",\n",
        "                  {bubbles: true, cancelable: true}\n",
        "                );\n",
        "                \n",
        "               function load_all_libs(){\n",
        "                  console.log('Loading Vincent libs...')\n",
        "                  vct_load_lib('http://d3js.org/d3.v3.min.js', function(){\n",
        "                  vct_load_lib('http://d3js.org/d3.geo.projection.v0.min.js', function(){\n",
        "                  vct_load_lib('http://wrobstory.github.io/d3-cloud/d3.layout.cloud.js', function(){\n",
        "                  vct_load_lib('http://wrobstory.github.io/vega/vega.v1.3.3.js', function(){\n",
        "                  window.dispatchEvent(vincent_event);\n",
        "                  });\n",
        "                  });\n",
        "                  });\n",
        "                  });\n",
        "               };\n",
        "               if(typeof define === \"function\" && define.amd){\n",
        "                    if (window['d3'] === undefined ||\n",
        "                        window['topojson'] === undefined){\n",
        "                        require.config(\n",
        "                            {paths: {\n",
        "                              d3: 'http://d3js.org/d3.v3.min',\n",
        "                              topojson: 'http://d3js.org/topojson.v1.min'\n",
        "                              }\n",
        "                            }\n",
        "                          );\n",
        "                        require([\"d3\"], function(d3){\n",
        "                            console.log('Loading Vincent from require.js...')\n",
        "                            window.d3 = d3;\n",
        "                            require([\"topojson\"], function(topojson){\n",
        "                                window.topojson = topojson;\n",
        "                                load_all_libs();\n",
        "                            });\n",
        "                        });\n",
        "                    } else {\n",
        "                        load_all_libs();\n",
        "                    };\n",
        "               }else{\n",
        "                    console.log('Require.js not found, loading manually...')\n",
        "                    load_all_libs();\n",
        "               };\n",
        "\n",
        "           </script>"
       ],
       "metadata": {},
       "output_type": "display_data",
       "text": [
        "<IPython.core.display.HTML at 0x1140e88d0>"
       ]
      },
      {
       "html": [
        "<div id=\"vis2b1d454adefb41b2a119f4f67572d97d\"></div>\n",
        "<script>\n",
        "   ( function() {\n",
        "     var _do_plot = function() {\n",
        "       if (typeof vg === 'undefined') {\n",
        "         window.addEventListener('vincent_libs_loaded', _do_plot)\n",
        "         return;\n",
        "       }\n",
        "       vg.parse.spec({\"axes\": [{\"scale\": \"x\", \"title\": \"Rockies Source\", \"type\": \"x\"}, {\"scale\": \"y\", \"title\": \"\", \"type\": \"y\"}], \"data\": [{\"name\": \"table\", \"values\": [{\"col\": \"data\", \"idx\": \"twitterfeed\", \"val\": 1490}, {\"col\": \"data\", \"idx\": \"Twitter for iPhone\", \"val\": 1016}, {\"col\": \"data\", \"idx\": \"Twitter for Android\", \"val\": 369}, {\"col\": \"data\", \"idx\": \"dlvr.it\", \"val\": 291}, {\"col\": \"data\", \"idx\": \"Twitter Web Client\", \"val\": 229}, {\"col\": \"data\", \"idx\": \"IFTTT\", \"val\": 162}, {\"col\": \"data\", \"idx\": \"TweetDeck\", \"val\": 85}, {\"col\": \"data\", \"idx\": \"Twitter for iPad\", \"val\": 79}, {\"col\": \"data\", \"idx\": \"Instagram\", \"val\": 47}, {\"col\": \"data\", \"idx\": \"Twitter for Windows\", \"val\": 30}]}, {\"name\": \"stats\", \"source\": \"table\", \"transform\": [{\"keys\": [\"data.idx\"], \"type\": \"facet\"}, {\"type\": \"stats\", \"value\": \"data.val\"}]}], \"height\": 500, \"legends\": [], \"marks\": [{\"from\": {\"data\": \"table\", \"transform\": [{\"keys\": [\"data.col\"], \"type\": \"facet\"}, {\"height\": \"data.val\", \"point\": \"data.idx\", \"type\": \"stack\"}]}, \"marks\": [{\"properties\": {\"enter\": {\"fill\": {\"field\": \"data.col\", \"scale\": \"color\"}, \"width\": {\"band\": true, \"offset\": -1, \"scale\": \"x\"}, \"x\": {\"field\": \"data.idx\", \"scale\": \"x\"}, \"y\": {\"field\": \"y\", \"scale\": \"y\"}, \"y2\": {\"field\": \"y2\", \"scale\": \"y\"}}}, \"type\": \"rect\"}], \"type\": \"group\"}], \"padding\": \"auto\", \"scales\": [{\"domain\": {\"data\": \"table\", \"field\": \"data.idx\"}, \"name\": \"x\", \"range\": \"width\", \"type\": \"ordinal\", \"zero\": false}, {\"domain\": {\"data\": \"stats\", \"field\": \"sum\"}, \"name\": \"y\", \"nice\": true, \"range\": \"height\"}, {\"domain\": {\"data\": \"table\", \"field\": \"data.col\"}, \"name\": \"color\", \"range\": [\"#66c2a5\", \"#fc8d62\", \"#8da0cb\", \"#e78ac3\", \"#a6d854\", \"#ffd92f\", \"#e5c494\", \"#b3b3b3\"], \"type\": \"ordinal\"}], \"width\": 960}, function(chart) {\n",
        "         chart({el: \"#vis2b1d454adefb41b2a119f4f67572d97d\"}).update();\n",
        "       });\n",
        "     };\n",
        "     _do_plot();\n",
        "   })();\n",
        "</script>\n",
        "<style>.vega canvas {width: 100%;}</style>\n",
        "        "
       ],
       "metadata": {},
       "output_type": "display_data",
       "text": [
        "<IPython.core.display.HTML at 0x10d2e48d0>"
       ]
      }
     ],
     "prompt_number": 84
    },
    {
     "cell_type": "markdown",
     "metadata": {},
     "source": [
      "I also tracked the geolocation of the tweets coming in, but a vast majority of tweets were not tagged. This could be interesting to put on a map, creating a visualization of each team's fanbase. "
     ]
    },
    {
     "cell_type": "code",
     "collapsed": false,
     "input": [],
     "language": "python",
     "metadata": {},
     "outputs": []
    }
   ],
   "metadata": {}
  }
 ]
}